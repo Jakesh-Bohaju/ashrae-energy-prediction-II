{
 "cells": [
  {
   "cell_type": "code",
   "execution_count": 1,
   "metadata": {
    "_cell_guid": "b1076dfc-b9ad-4769-8c92-a6c4dae69d19",
    "_uuid": "8f2839f25d086af736a60e9eeb907d3b93b6e0e5"
   },
   "outputs": [
    {
     "name": "stdout",
     "output_type": "stream",
     "text": [
      "/kaggle/input/ashrae-energy-prediction/weather_test.csv\n",
      "/kaggle/input/ashrae-energy-prediction/building_metadata.csv\n",
      "/kaggle/input/ashrae-energy-prediction/train.csv\n",
      "/kaggle/input/ashrae-energy-prediction/test.csv\n",
      "/kaggle/input/ashrae-energy-prediction/sample_submission.csv\n",
      "/kaggle/input/ashrae-energy-prediction/weather_train.csv\n"
     ]
    }
   ],
   "source": [
    "# This Python 3 environment comes with many helpful analytics libraries installed\n",
    "# It is defined by the kaggle/python docker image: https://github.com/kaggle/docker-python\n",
    "# For example, here's several helpful packages to load in \n",
    "\n",
    "import numpy as np # linear algebra\n",
    "import pandas as pd # data processing, CSV file I/O (e.g. pd.read_csv)\n",
    "from matplotlib import pyplot as plt\n",
    "from sklearn.metrics import mean_squared_error\n",
    "from sklearn.preprocessing import LabelEncoder\n",
    "\n",
    "# Input data files are available in the \"../input/\" directory.\n",
    "# For example, running this (by clicking run or pressing Shift+Enter) will list all files under the input directory\n",
    "\n",
    "import os\n",
    "for dirname, _, filenames in os.walk('/kaggle/input'):\n",
    "    for filename in filenames:\n",
    "        print(os.path.join(dirname, filename))\n",
    "\n",
    "# Any results you write to the current directory are saved as output."
   ]
  },
  {
   "cell_type": "code",
   "execution_count": 2,
   "metadata": {
    "_cell_guid": "79c7e3d0-c299-4dcb-8224-4455121ee9b0",
    "_uuid": "d629ff2d2480ee46fbb7e2d37f6b5fab8052498a"
   },
   "outputs": [],
   "source": [
    "def reduce_mem_usage(df, verbose=True):\n",
    "    numerics = ['int16', 'int32', 'int64', 'float16', 'float32', 'float64']\n",
    "    start_mem = df.memory_usage().sum() / 1024**2    \n",
    "    for col in df.columns:\n",
    "        col_type = df[col].dtypes\n",
    "        if col_type in numerics:\n",
    "            c_min = df[col].min()\n",
    "            c_max = df[col].max()\n",
    "            if str(col_type)[:3] == 'int':\n",
    "                if c_min > np.iinfo(np.int8).min and c_max < np.iinfo(np.int8).max:\n",
    "                    df[col] = df[col].astype(np.int8)\n",
    "                elif c_min > np.iinfo(np.int16).min and c_max < np.iinfo(np.int16).max:\n",
    "                    df[col] = df[col].astype(np.int16)\n",
    "                elif c_min > np.iinfo(np.int32).min and c_max < np.iinfo(np.int32).max:\n",
    "                    df[col] = df[col].astype(np.int32)\n",
    "                elif c_min > np.iinfo(np.int64).min and c_max < np.iinfo(np.int64).max:\n",
    "                    df[col] = df[col].astype(np.int64)  \n",
    "            else:\n",
    "                if c_min > np.finfo(np.float16).min and c_max < np.finfo(np.float16).max:\n",
    "                    df[col] = df[col].astype(np.float16)\n",
    "                elif c_min > np.finfo(np.float32).min and c_max < np.finfo(np.float32).max:\n",
    "                    df[col] = df[col].astype(np.float32)\n",
    "                else:\n",
    "                    df[col] = df[col].astype(np.float64)    \n",
    "    end_mem = df.memory_usage().sum() / 1024**2\n",
    "    if verbose: print('Mem. usage decreased to {:5.2f} Mb ({:.1f}% reduction)'.format(end_mem, 100 * (start_mem - end_mem) / start_mem))\n",
    "    return df\n"
   ]
  },
  {
   "cell_type": "code",
   "execution_count": 3,
   "metadata": {
    "_cell_guid": "",
    "_uuid": ""
   },
   "outputs": [],
   "source": [
    "building_df = pd.read_csv(\"../input/ashrae-energy-prediction/building_metadata.csv\")\n",
    "train_df = pd.read_csv(\"../input/ashrae-energy-prediction/train.csv\")\n",
    "weather_train_df = pd.read_csv(\"../input/ashrae-energy-prediction/weather_train.csv\")"
   ]
  },
  {
   "cell_type": "code",
   "execution_count": null,
   "metadata": {},
   "outputs": [],
   "source": []
  },
  {
   "cell_type": "code",
   "execution_count": 4,
   "metadata": {},
   "outputs": [
    {
     "name": "stdout",
     "output_type": "stream",
     "text": [
      "Mem. usage decreased to  0.03 Mb (60.3% reduction)\n",
      "Mem. usage decreased to 289.19 Mb (53.1% reduction)\n",
      "Mem. usage decreased to  3.07 Mb (68.1% reduction)\n"
     ]
    }
   ],
   "source": [
    "building_df = reduce_mem_usage(building_df)\n",
    "train_df = reduce_mem_usage(train_df)\n",
    "weather_train_df = reduce_mem_usage(weather_train_df)"
   ]
  },
  {
   "cell_type": "code",
   "execution_count": 5,
   "metadata": {},
   "outputs": [],
   "source": [
    "building_merge_train_df = train_df.merge(building_df, on='building_id', how='left')\n",
    "df_train = building_merge_train_df.merge(weather_train_df, on=['site_id', 'timestamp'], how='left')"
   ]
  },
  {
   "cell_type": "code",
   "execution_count": 6,
   "metadata": {},
   "outputs": [
    {
     "data": {
      "text/plain": [
       "0"
      ]
     },
     "execution_count": 6,
     "metadata": {},
     "output_type": "execute_result"
    }
   ],
   "source": [
    "import gc\n",
    "del train_df\n",
    "del building_df\n",
    "del weather_train_df\n",
    "gc.collect()"
   ]
  },
  {
   "cell_type": "code",
   "execution_count": 7,
   "metadata": {},
   "outputs": [],
   "source": [
    "df_train[\"timestamp\"] = pd.to_datetime(df_train[\"timestamp\"])\n",
    "df_train[\"hour\"] = df_train[\"timestamp\"].dt.hour\n",
    "df_train[\"day\"] = df_train[\"timestamp\"].dt.day\n",
    "df_train[\"month\"] = df_train[\"timestamp\"].dt.month"
   ]
  },
  {
   "cell_type": "code",
   "execution_count": 8,
   "metadata": {},
   "outputs": [],
   "source": [
    "drop_features = [\"timestamp\",\"floor_count\",\"year_built\"]\n",
    "df_train.drop(drop_features, axis=1, inplace=True)"
   ]
  },
  {
   "cell_type": "code",
   "execution_count": 9,
   "metadata": {},
   "outputs": [
    {
     "name": "stdout",
     "output_type": "stream",
     "text": [
      "Mem. usage decreased to 867.58 Mb (31.8% reduction)\n"
     ]
    }
   ],
   "source": [
    "df_train = reduce_mem_usage(df_train)"
   ]
  },
  {
   "cell_type": "code",
   "execution_count": 10,
   "metadata": {},
   "outputs": [
    {
     "data": {
      "text/plain": [
       "(20216100, 16)"
      ]
     },
     "execution_count": 10,
     "metadata": {},
     "output_type": "execute_result"
    }
   ],
   "source": [
    "df_train.shape"
   ]
  },
  {
   "cell_type": "code",
   "execution_count": 11,
   "metadata": {},
   "outputs": [
    {
     "name": "stdout",
     "output_type": "stream",
     "text": [
      "<class 'pandas.core.frame.DataFrame'>\n",
      "Int64Index: 20216100 entries, 0 to 20216099\n",
      "Data columns (total 16 columns):\n",
      "building_id           int16\n",
      "meter                 int8\n",
      "meter_reading         float32\n",
      "site_id               int8\n",
      "primary_use           object\n",
      "square_feet           int32\n",
      "air_temperature       float16\n",
      "cloud_coverage        float16\n",
      "dew_temperature       float16\n",
      "precip_depth_1_hr     float16\n",
      "sea_level_pressure    float16\n",
      "wind_direction        float16\n",
      "wind_speed            float16\n",
      "hour                  int8\n",
      "day                   int8\n",
      "month                 int8\n",
      "dtypes: float16(7), float32(1), int16(1), int32(1), int8(5), object(1)\n",
      "memory usage: 867.6+ MB\n"
     ]
    }
   ],
   "source": [
    "df_train.info()"
   ]
  },
  {
   "cell_type": "code",
   "execution_count": 12,
   "metadata": {},
   "outputs": [],
   "source": [
    "li = ['air_temperature','cloud_coverage','dew_temperature',\"sea_level_pressure\", \"wind_direction\", \"wind_speed\",\"precip_depth_1_hr\"]\n",
    "for i in li:\n",
    "    a = np.round(df_train[i]).median()\n",
    "    df_train[i] = df_train[i].fillna(a) \n"
   ]
  },
  {
   "cell_type": "code",
   "execution_count": 13,
   "metadata": {},
   "outputs": [],
   "source": [
    "le = LabelEncoder()\n",
    "df_train['primary_use'] = le.fit_transform(df_train['primary_use'])"
   ]
  },
  {
   "cell_type": "code",
   "execution_count": 14,
   "metadata": {},
   "outputs": [
    {
     "data": {
      "text/plain": [
       "building_id           0\n",
       "meter                 0\n",
       "meter_reading         0\n",
       "site_id               0\n",
       "primary_use           0\n",
       "square_feet           0\n",
       "air_temperature       0\n",
       "cloud_coverage        0\n",
       "dew_temperature       0\n",
       "precip_depth_1_hr     0\n",
       "sea_level_pressure    0\n",
       "wind_direction        0\n",
       "wind_speed            0\n",
       "hour                  0\n",
       "day                   0\n",
       "month                 0\n",
       "dtype: int64"
      ]
     },
     "execution_count": 14,
     "metadata": {},
     "output_type": "execute_result"
    }
   ],
   "source": [
    "df_train.isnull().sum(axis = 0)\n"
   ]
  },
  {
   "cell_type": "code",
   "execution_count": 15,
   "metadata": {},
   "outputs": [],
   "source": [
    "target = np.log1p(df_train[\"meter_reading\"])\n",
    "feature = df_train.drop(\"meter_reading\", axis = 1)"
   ]
  },
  {
   "cell_type": "code",
   "execution_count": 16,
   "metadata": {},
   "outputs": [],
   "source": [
    "\n",
    "del df_train\n"
   ]
  },
  {
   "cell_type": "code",
   "execution_count": 17,
   "metadata": {},
   "outputs": [],
   "source": [
    "import lightgbm\n",
    "from sklearn.model_selection import train_test_split"
   ]
  },
  {
   "cell_type": "code",
   "execution_count": 18,
   "metadata": {},
   "outputs": [],
   "source": [
    "feature_train, feature_validation, target_train, target_validation= train_test_split(feature, target, test_size=0.25)"
   ]
  },
  {
   "cell_type": "code",
   "execution_count": 19,
   "metadata": {},
   "outputs": [],
   "source": [
    "categoricals = [\"building_id\", \"primary_use\", \"hour\", \"day\", \"month\", \"meter\",\"site_id\"]\n",
    "numericals = [\"square_feet\", \"air_temperature\", \"cloud_coverage\",\"dew_temperature\",\"sea_level_pressure\", \"wind_direction\", \"wind_speed\",\"precip_depth_1_hr\"]\n",
    "\n",
    "feat_cols = categoricals + numericals"
   ]
  },
  {
   "cell_type": "code",
   "execution_count": 20,
   "metadata": {},
   "outputs": [],
   "source": [
    "train_data = lightgbm.Dataset(feature_train, label=target_train)\n",
    "validation_data = lightgbm.Dataset(feature_validation, label=target_validation)"
   ]
  },
  {
   "cell_type": "code",
   "execution_count": 21,
   "metadata": {},
   "outputs": [],
   "source": [
    "parameters = {\n",
    "    'objective': 'regression',\n",
    "    'boosting': 'gbdt',\n",
    "    'metric': {'rmse'},\n",
    "    'num_leaves': 20,\n",
    "    'feature_fraction': 0.8,\n",
    "    'bagging_fraction': 0.8,\n",
    "    'learning_rate': 0.05,\n",
    "    'alpha': 0.1,\n",
    "    'lambda': 0.1, \n",
    "}"
   ]
  },
  {
   "cell_type": "code",
   "execution_count": 22,
   "metadata": {},
   "outputs": [
    {
     "name": "stdout",
     "output_type": "stream",
     "text": [
      "Training until validation scores don't improve for 100 rounds\n",
      "[20]\tvalid_0's rmse: 1.80778\n",
      "[40]\tvalid_0's rmse: 1.65596\n",
      "[60]\tvalid_0's rmse: 1.58327\n",
      "[80]\tvalid_0's rmse: 1.53406\n",
      "[100]\tvalid_0's rmse: 1.49076\n",
      "[120]\tvalid_0's rmse: 1.45992\n",
      "[140]\tvalid_0's rmse: 1.43661\n",
      "[160]\tvalid_0's rmse: 1.41481\n",
      "[180]\tvalid_0's rmse: 1.39708\n",
      "[200]\tvalid_0's rmse: 1.38107\n",
      "[220]\tvalid_0's rmse: 1.36637\n",
      "[240]\tvalid_0's rmse: 1.35288\n",
      "[260]\tvalid_0's rmse: 1.34226\n",
      "[280]\tvalid_0's rmse: 1.33129\n",
      "[300]\tvalid_0's rmse: 1.32109\n",
      "[320]\tvalid_0's rmse: 1.31181\n",
      "[340]\tvalid_0's rmse: 1.30144\n",
      "[360]\tvalid_0's rmse: 1.29215\n",
      "[380]\tvalid_0's rmse: 1.28485\n",
      "[400]\tvalid_0's rmse: 1.27756\n",
      "[420]\tvalid_0's rmse: 1.26774\n",
      "[440]\tvalid_0's rmse: 1.26012\n",
      "[460]\tvalid_0's rmse: 1.25177\n",
      "[480]\tvalid_0's rmse: 1.2441\n",
      "[500]\tvalid_0's rmse: 1.23554\n",
      "[520]\tvalid_0's rmse: 1.2287\n",
      "[540]\tvalid_0's rmse: 1.22038\n",
      "[560]\tvalid_0's rmse: 1.21326\n",
      "[580]\tvalid_0's rmse: 1.20668\n",
      "[600]\tvalid_0's rmse: 1.20065\n",
      "[620]\tvalid_0's rmse: 1.19365\n",
      "[640]\tvalid_0's rmse: 1.18707\n",
      "[660]\tvalid_0's rmse: 1.18008\n",
      "[680]\tvalid_0's rmse: 1.1734\n",
      "[700]\tvalid_0's rmse: 1.16794\n",
      "[720]\tvalid_0's rmse: 1.16309\n",
      "[740]\tvalid_0's rmse: 1.15896\n",
      "[760]\tvalid_0's rmse: 1.15332\n",
      "[780]\tvalid_0's rmse: 1.14836\n",
      "[800]\tvalid_0's rmse: 1.14278\n",
      "[820]\tvalid_0's rmse: 1.13931\n",
      "[840]\tvalid_0's rmse: 1.13564\n",
      "[860]\tvalid_0's rmse: 1.13112\n",
      "[880]\tvalid_0's rmse: 1.12572\n",
      "[900]\tvalid_0's rmse: 1.12211\n",
      "[920]\tvalid_0's rmse: 1.11733\n",
      "[940]\tvalid_0's rmse: 1.11365\n",
      "[960]\tvalid_0's rmse: 1.10984\n",
      "[980]\tvalid_0's rmse: 1.10598\n",
      "[1000]\tvalid_0's rmse: 1.10169\n",
      "[1020]\tvalid_0's rmse: 1.09654\n",
      "[1040]\tvalid_0's rmse: 1.09315\n",
      "[1060]\tvalid_0's rmse: 1.09016\n",
      "[1080]\tvalid_0's rmse: 1.08689\n",
      "[1100]\tvalid_0's rmse: 1.08241\n",
      "[1120]\tvalid_0's rmse: 1.0784\n",
      "[1140]\tvalid_0's rmse: 1.07491\n",
      "[1160]\tvalid_0's rmse: 1.07134\n",
      "[1180]\tvalid_0's rmse: 1.06784\n",
      "[1200]\tvalid_0's rmse: 1.06475\n",
      "[1220]\tvalid_0's rmse: 1.06157\n",
      "[1240]\tvalid_0's rmse: 1.05932\n",
      "[1260]\tvalid_0's rmse: 1.0565\n",
      "[1280]\tvalid_0's rmse: 1.05341\n",
      "[1300]\tvalid_0's rmse: 1.0501\n",
      "[1320]\tvalid_0's rmse: 1.04734\n",
      "[1340]\tvalid_0's rmse: 1.04411\n",
      "[1360]\tvalid_0's rmse: 1.04118\n",
      "[1380]\tvalid_0's rmse: 1.03809\n",
      "[1400]\tvalid_0's rmse: 1.03495\n",
      "[1420]\tvalid_0's rmse: 1.03236\n",
      "[1440]\tvalid_0's rmse: 1.02979\n",
      "[1460]\tvalid_0's rmse: 1.02789\n",
      "[1480]\tvalid_0's rmse: 1.02541\n",
      "[1500]\tvalid_0's rmse: 1.02245\n",
      "[1520]\tvalid_0's rmse: 1.01998\n",
      "[1540]\tvalid_0's rmse: 1.01791\n",
      "[1560]\tvalid_0's rmse: 1.01526\n",
      "[1580]\tvalid_0's rmse: 1.01323\n",
      "[1600]\tvalid_0's rmse: 1.01076\n",
      "[1620]\tvalid_0's rmse: 1.00881\n",
      "[1640]\tvalid_0's rmse: 1.00611\n",
      "[1660]\tvalid_0's rmse: 1.00372\n",
      "[1680]\tvalid_0's rmse: 1.00161\n",
      "[1700]\tvalid_0's rmse: 1.00009\n",
      "[1720]\tvalid_0's rmse: 0.997783\n",
      "[1740]\tvalid_0's rmse: 0.995427\n",
      "[1760]\tvalid_0's rmse: 0.993409\n",
      "[1780]\tvalid_0's rmse: 0.991135\n",
      "[1800]\tvalid_0's rmse: 0.988644\n",
      "[1820]\tvalid_0's rmse: 0.986729\n",
      "[1840]\tvalid_0's rmse: 0.984802\n",
      "[1860]\tvalid_0's rmse: 0.982811\n",
      "[1880]\tvalid_0's rmse: 0.980944\n",
      "[1900]\tvalid_0's rmse: 0.979514\n",
      "[1920]\tvalid_0's rmse: 0.977501\n",
      "[1940]\tvalid_0's rmse: 0.975669\n",
      "[1960]\tvalid_0's rmse: 0.973996\n",
      "[1980]\tvalid_0's rmse: 0.97241\n",
      "[2000]\tvalid_0's rmse: 0.970731\n",
      "Did not meet early stopping. Best iteration is:\n",
      "[2000]\tvalid_0's rmse: 0.970731\n"
     ]
    }
   ],
   "source": [
    "model = lightgbm.train(parameters,\n",
    "                       train_data,\n",
    "                       valid_sets=validation_data,\n",
    "                       num_boost_round=2000,\n",
    "                       early_stopping_rounds=100,\n",
    "                       verbose_eval = 20,)"
   ]
  },
  {
   "cell_type": "code",
   "execution_count": 39,
   "metadata": {},
   "outputs": [
    {
     "data": {
      "image/png": "[encoded data removed]",
      "text/plain": [
       "<Figure size 1080x576 with 1 Axes>"
      ]
     },
     "metadata": {
      "needs_background": "light"
     },
     "output_type": "display_data"
    },
    {
     "data": {
      "text/plain": [
       "<Figure size 432x288 with 0 Axes>"
      ]
     },
     "metadata": {},
     "output_type": "display_data"
    }
   ],
   "source": [
    "ax = lightgbm.plot_importance(model, max_num_features=40, figsize=(15,8))\n",
    "plt.show()\n",
    "plt.savefig('lgbm_feature_importance.png')"
   ]
  },
  {
   "cell_type": "code",
   "execution_count": 24,
   "metadata": {},
   "outputs": [],
   "source": [
    "imp_features = [\"building_id\",\"square_feet\",\"meter\",\"month\",\"primary_use\",\"air_temperature\",\"site_id\",\"dew_temperature\",\"hour\",\"day\"]"
   ]
  },
  {
   "cell_type": "code",
   "execution_count": 25,
   "metadata": {},
   "outputs": [],
   "source": [
    "feature_train = feature_train.drop([\"cloud_coverage\",\"sea_level_pressure\", \"wind_direction\", \"wind_speed\",\"precip_depth_1_hr\"], axis = 1)"
   ]
  },
  {
   "cell_type": "code",
   "execution_count": 26,
   "metadata": {},
   "outputs": [],
   "source": [
    "def rmsle(val_y, y_pred):\n",
    "    sum=0.0\n",
    "    for x in range(len(y_pred)):\n",
    "        if y_pred[x]<0 or val_y[x]<0: #check for negative values\n",
    "            continue\n",
    "        p = np.log(y_pred[x]+1)\n",
    "        r = np.log(val_y[x]+1)\n",
    "        sum = sum + (p - r)**2\n",
    "    return (sum/len(y_pred))**0.5"
   ]
  },
  {
   "cell_type": "code",
   "execution_count": 27,
   "metadata": {},
   "outputs": [
    {
     "data": {
      "text/plain": [
       "LinearRegression(copy_X=True, fit_intercept=True, n_jobs=None, normalize=False)"
      ]
     },
     "execution_count": 27,
     "metadata": {},
     "output_type": "execute_result"
    }
   ],
   "source": [
    "from sklearn.metrics import mean_squared_log_error\n",
    "from sklearn.linear_model import LinearRegression\n",
    "lr = LinearRegression()\n",
    "lr.fit(feature_train, target_train)"
   ]
  },
  {
   "cell_type": "code",
   "execution_count": 28,
   "metadata": {},
   "outputs": [
    {
     "name": "stdout",
     "output_type": "stream",
     "text": [
      "3.0590644928347652\n"
     ]
    }
   ],
   "source": [
    "print(lr.intercept_)"
   ]
  },
  {
   "cell_type": "code",
   "execution_count": 29,
   "metadata": {},
   "outputs": [],
   "source": [
    "def rmsle(h, y):\n",
    "    sum =0\n",
    "    h_list = h.tolist()\n",
    "    res = np.concatenate(y)\n",
    "    for i in range(len(h_list)):\n",
    "        sum = sum + np.square(np.log(h_list[i] + 1) - np.log(res[i] + 1))\n",
    "    err = np.sqrt(sum/len(h_list))\n",
    "    return err"
   ]
  },
  {
   "cell_type": "code",
   "execution_count": 30,
   "metadata": {},
   "outputs": [],
   "source": [
    "feature_validation = feature_validation.drop([\"cloud_coverage\",\"sea_level_pressure\", \"wind_direction\", \"wind_speed\",\"precip_depth_1_hr\"], axis = 1)"
   ]
  },
  {
   "cell_type": "code",
   "execution_count": 32,
   "metadata": {},
   "outputs": [
    {
     "name": "stderr",
     "output_type": "stream",
     "text": [
      "100%|██████████| 10109/10109 [00:16<00:00, 600.56it/s]\n"
     ]
    }
   ],
   "source": [
    "from tqdm import tqdm\n",
    "i=0\n",
    "y_pred0=[]\n",
    "step_size = 500 \n",
    "for j in tqdm(range(int(np.ceil(feature_validation.shape[0]/500)))):\n",
    "    y_pred0.append(np.expm1(lr.predict(feature_validation.iloc[i:i+step_size])))\n",
    "    i+=step_size"
   ]
  },
  {
   "cell_type": "code",
   "execution_count": null,
   "metadata": {},
   "outputs": [],
   "source": []
  },
  {
   "cell_type": "code",
   "execution_count": 47,
   "metadata": {},
   "outputs": [
    {
     "name": "stdout",
     "output_type": "stream",
     "text": [
      "rmsle 7.792960266169392\n",
      "Coefficients: \n",
      " [-1.66728734e-03 -5.49162850e-02  1.87621367e-01 -3.01981309e-02\n",
      "  6.49219972e-06 -2.86818874e-04  6.09445594e-03  1.03952721e-02\n",
      "  1.57079449e-03  2.50368498e-02]\n"
     ]
    }
   ],
   "source": [
    "print(\"rmsle\",mean_squared_log_error(target_validation, res1))\n",
    "print('Coefficients: \\n', lr.coef_)"
   ]
  },
  {
   "cell_type": "code",
   "execution_count": null,
   "metadata": {},
   "outputs": [],
   "source": []
  },
  {
   "cell_type": "code",
   "execution_count": 40,
   "metadata": {},
   "outputs": [
    {
     "name": "stdout",
     "output_type": "stream",
     "text": [
      "Training FOLD  0 \n",
      "\n",
      "Train index: \tfrom: 0 \tto: 15162074 \n",
      "\n",
      "Valid index: \tfrom: 6 \tto: 15162070 \n",
      "\n",
      "Training until validation scores don't improve for 100 rounds\n",
      "[20]\ttraining's rmse: 1.63775\tvalid_1's rmse: 1.63667\n",
      "[40]\ttraining's rmse: 1.39577\tvalid_1's rmse: 1.39448\n",
      "[60]\ttraining's rmse: 1.29213\tvalid_1's rmse: 1.29087\n",
      "[80]\ttraining's rmse: 1.22478\tvalid_1's rmse: 1.22348\n",
      "[100]\ttraining's rmse: 1.18088\tvalid_1's rmse: 1.17966\n",
      "[120]\ttraining's rmse: 1.14209\tvalid_1's rmse: 1.14101\n",
      "[140]\ttraining's rmse: 1.11274\tvalid_1's rmse: 1.11174\n",
      "[160]\ttraining's rmse: 1.0931\tvalid_1's rmse: 1.09219\n",
      "[180]\ttraining's rmse: 1.07816\tvalid_1's rmse: 1.07734\n",
      "[200]\ttraining's rmse: 1.06373\tvalid_1's rmse: 1.06297\n",
      "[220]\ttraining's rmse: 1.0498\tvalid_1's rmse: 1.0491\n",
      "[240]\ttraining's rmse: 1.03851\tvalid_1's rmse: 1.03787\n",
      "[260]\ttraining's rmse: 1.02336\tvalid_1's rmse: 1.02279\n",
      "[280]\ttraining's rmse: 1.01484\tvalid_1's rmse: 1.01434\n",
      "[300]\ttraining's rmse: 1.00636\tvalid_1's rmse: 1.00587\n",
      "[320]\ttraining's rmse: 1.00005\tvalid_1's rmse: 0.999592\n",
      "[340]\ttraining's rmse: 0.993127\tvalid_1's rmse: 0.992733\n",
      "[360]\ttraining's rmse: 0.983243\tvalid_1's rmse: 0.982917\n",
      "[380]\ttraining's rmse: 0.974538\tvalid_1's rmse: 0.974273\n",
      "[400]\ttraining's rmse: 0.966482\tvalid_1's rmse: 0.966257\n",
      "[420]\ttraining's rmse: 0.960569\tvalid_1's rmse: 0.960364\n",
      "[440]\ttraining's rmse: 0.957436\tvalid_1's rmse: 0.957279\n",
      "[460]\ttraining's rmse: 0.953079\tvalid_1's rmse: 0.952962\n",
      "[480]\ttraining's rmse: 0.948454\tvalid_1's rmse: 0.948365\n",
      "[500]\ttraining's rmse: 0.944924\tvalid_1's rmse: 0.944892\n",
      "[520]\ttraining's rmse: 0.940112\tvalid_1's rmse: 0.940131\n",
      "[540]\ttraining's rmse: 0.935495\tvalid_1's rmse: 0.935582\n",
      "[560]\ttraining's rmse: 0.930837\tvalid_1's rmse: 0.931009\n",
      "[580]\ttraining's rmse: 0.925712\tvalid_1's rmse: 0.92591\n",
      "[600]\ttraining's rmse: 0.921835\tvalid_1's rmse: 0.922079\n",
      "[620]\ttraining's rmse: 0.91722\tvalid_1's rmse: 0.917507\n",
      "[640]\ttraining's rmse: 0.91401\tvalid_1's rmse: 0.914317\n",
      "[660]\ttraining's rmse: 0.910145\tvalid_1's rmse: 0.910457\n",
      "[680]\ttraining's rmse: 0.906306\tvalid_1's rmse: 0.906666\n",
      "[700]\ttraining's rmse: 0.902494\tvalid_1's rmse: 0.902924\n",
      "[720]\ttraining's rmse: 0.899331\tvalid_1's rmse: 0.899793\n",
      "[740]\ttraining's rmse: 0.895848\tvalid_1's rmse: 0.896373\n",
      "[760]\ttraining's rmse: 0.892274\tvalid_1's rmse: 0.892836\n",
      "[780]\ttraining's rmse: 0.88907\tvalid_1's rmse: 0.889718\n",
      "[800]\ttraining's rmse: 0.88593\tvalid_1's rmse: 0.886663\n",
      "[820]\ttraining's rmse: 0.881485\tvalid_1's rmse: 0.882277\n",
      "[840]\ttraining's rmse: 0.87788\tvalid_1's rmse: 0.878716\n",
      "[860]\ttraining's rmse: 0.875591\tvalid_1's rmse: 0.876452\n",
      "[880]\ttraining's rmse: 0.872681\tvalid_1's rmse: 0.873581\n",
      "[900]\ttraining's rmse: 0.869953\tvalid_1's rmse: 0.870884\n",
      "[920]\ttraining's rmse: 0.867224\tvalid_1's rmse: 0.868207\n",
      "[940]\ttraining's rmse: 0.864169\tvalid_1's rmse: 0.865185\n",
      "[960]\ttraining's rmse: 0.861705\tvalid_1's rmse: 0.862747\n",
      "[980]\ttraining's rmse: 0.858335\tvalid_1's rmse: 0.859412\n",
      "[1000]\ttraining's rmse: 0.855359\tvalid_1's rmse: 0.856487\n",
      "[1020]\ttraining's rmse: 0.85148\tvalid_1's rmse: 0.852695\n",
      "[1040]\ttraining's rmse: 0.848021\tvalid_1's rmse: 0.849324\n",
      "[1060]\ttraining's rmse: 0.84504\tvalid_1's rmse: 0.846441\n",
      "[1080]\ttraining's rmse: 0.840884\tvalid_1's rmse: 0.842353\n",
      "[1100]\ttraining's rmse: 0.837842\tvalid_1's rmse: 0.839381\n",
      "[1120]\ttraining's rmse: 0.834256\tvalid_1's rmse: 0.835874\n",
      "[1140]\ttraining's rmse: 0.831666\tvalid_1's rmse: 0.833359\n",
      "[1160]\ttraining's rmse: 0.829238\tvalid_1's rmse: 0.830993\n",
      "[1180]\ttraining's rmse: 0.826796\tvalid_1's rmse: 0.828597\n",
      "[1200]\ttraining's rmse: 0.824511\tvalid_1's rmse: 0.826351\n",
      "[1220]\ttraining's rmse: 0.822876\tvalid_1's rmse: 0.824794\n",
      "[1240]\ttraining's rmse: 0.820562\tvalid_1's rmse: 0.822541\n",
      "[1260]\ttraining's rmse: 0.818674\tvalid_1's rmse: 0.820705\n",
      "[1280]\ttraining's rmse: 0.816658\tvalid_1's rmse: 0.818732\n",
      "[1300]\ttraining's rmse: 0.814397\tvalid_1's rmse: 0.816531\n",
      "[1320]\ttraining's rmse: 0.812669\tvalid_1's rmse: 0.814829\n",
      "[1340]\ttraining's rmse: 0.810329\tvalid_1's rmse: 0.812529\n",
      "[1360]\ttraining's rmse: 0.808917\tvalid_1's rmse: 0.811134\n",
      "[1380]\ttraining's rmse: 0.806715\tvalid_1's rmse: 0.808953\n",
      "[1400]\ttraining's rmse: 0.805125\tvalid_1's rmse: 0.807391\n",
      "[1420]\ttraining's rmse: 0.804042\tvalid_1's rmse: 0.806353\n",
      "[1440]\ttraining's rmse: 0.802586\tvalid_1's rmse: 0.804906\n",
      "[1460]\ttraining's rmse: 0.800664\tvalid_1's rmse: 0.803029\n",
      "[1480]\ttraining's rmse: 0.799271\tvalid_1's rmse: 0.801664\n",
      "[1500]\ttraining's rmse: 0.798066\tvalid_1's rmse: 0.800477\n",
      "[1520]\ttraining's rmse: 0.796643\tvalid_1's rmse: 0.799079\n",
      "[1540]\ttraining's rmse: 0.795245\tvalid_1's rmse: 0.797697\n",
      "[1560]\ttraining's rmse: 0.79359\tvalid_1's rmse: 0.796067\n",
      "[1580]\ttraining's rmse: 0.792491\tvalid_1's rmse: 0.794995\n",
      "[1600]\ttraining's rmse: 0.791409\tvalid_1's rmse: 0.793955\n",
      "[1620]\ttraining's rmse: 0.790461\tvalid_1's rmse: 0.793045\n",
      "[1640]\ttraining's rmse: 0.789368\tvalid_1's rmse: 0.791982\n",
      "[1660]\ttraining's rmse: 0.788296\tvalid_1's rmse: 0.790936\n",
      "[1680]\ttraining's rmse: 0.787379\tvalid_1's rmse: 0.790048\n",
      "[1700]\ttraining's rmse: 0.786185\tvalid_1's rmse: 0.788887\n",
      "[1720]\ttraining's rmse: 0.785294\tvalid_1's rmse: 0.788027\n",
      "[1740]\ttraining's rmse: 0.784468\tvalid_1's rmse: 0.787253\n",
      "[1760]\ttraining's rmse: 0.783056\tvalid_1's rmse: 0.785868\n",
      "[1780]\ttraining's rmse: 0.782151\tvalid_1's rmse: 0.785\n",
      "[1800]\ttraining's rmse: 0.781196\tvalid_1's rmse: 0.78408\n",
      "[1820]\ttraining's rmse: 0.78065\tvalid_1's rmse: 0.783569\n",
      "[1840]\ttraining's rmse: 0.779314\tvalid_1's rmse: 0.782285\n",
      "[1860]\ttraining's rmse: 0.778342\tvalid_1's rmse: 0.78136\n",
      "[1880]\ttraining's rmse: 0.777064\tvalid_1's rmse: 0.780128\n",
      "[1900]\ttraining's rmse: 0.776281\tvalid_1's rmse: 0.77938\n",
      "[1920]\ttraining's rmse: 0.775371\tvalid_1's rmse: 0.778496\n",
      "[1940]\ttraining's rmse: 0.774427\tvalid_1's rmse: 0.777574\n",
      "[1960]\ttraining's rmse: 0.773623\tvalid_1's rmse: 0.776802\n",
      "[1980]\ttraining's rmse: 0.772638\tvalid_1's rmse: 0.775854\n",
      "[2000]\ttraining's rmse: 0.771711\tvalid_1's rmse: 0.774946\n",
      "Did not meet early stopping. Best iteration is:\n",
      "[2000]\ttraining's rmse: 0.771711\tvalid_1's rmse: 0.774946\n",
      "\n",
      "Fold 0  Score:  0.6005419707748662\n",
      "Total time in second :  1070.99\n",
      "------------------------------------------------------------\n",
      "Training FOLD  1 \n",
      "\n",
      "Train index: \tfrom: 0 \tto: 15162073 \n",
      "\n",
      "Valid index: \tfrom: 10 \tto: 15162074 \n",
      "\n"
     ]
    },
    {
     "name": "stderr",
     "output_type": "stream",
     "text": [
      "/opt/conda/lib/python3.6/site-packages/lightgbm/basic.py:1295: UserWarning: categorical_feature in Dataset is overridden.\n",
      "New categorical_feature is ['air_temperature', 'building_id', 'day', 'dew_temperature', 'hour', 'meter', 'month', 'primary_use', 'site_id', 'square_feet']\n",
      "  'New categorical_feature is {}'.format(sorted(list(categorical_feature))))\n"
     ]
    },
    {
     "name": "stdout",
     "output_type": "stream",
     "text": [
      "Training until validation scores don't improve for 100 rounds\n",
      "[20]\ttraining's rmse: 1.63882\tvalid_1's rmse: 1.63991\n",
      "[40]\ttraining's rmse: 1.3927\tvalid_1's rmse: 1.394\n",
      "[60]\ttraining's rmse: 1.28661\tvalid_1's rmse: 1.28786\n",
      "[80]\ttraining's rmse: 1.22604\tvalid_1's rmse: 1.22731\n",
      "[100]\ttraining's rmse: 1.17849\tvalid_1's rmse: 1.17966\n",
      "[120]\ttraining's rmse: 1.13577\tvalid_1's rmse: 1.1369\n",
      "[140]\ttraining's rmse: 1.107\tvalid_1's rmse: 1.10811\n",
      "[160]\ttraining's rmse: 1.08807\tvalid_1's rmse: 1.08915\n",
      "[180]\ttraining's rmse: 1.06909\tvalid_1's rmse: 1.07018\n",
      "[200]\ttraining's rmse: 1.0541\tvalid_1's rmse: 1.05516\n",
      "[220]\ttraining's rmse: 1.03868\tvalid_1's rmse: 1.03969\n",
      "[240]\ttraining's rmse: 1.02947\tvalid_1's rmse: 1.03049\n",
      "[260]\ttraining's rmse: 1.02034\tvalid_1's rmse: 1.02144\n",
      "[280]\ttraining's rmse: 1.01243\tvalid_1's rmse: 1.01352\n",
      "[300]\ttraining's rmse: 0.999674\tvalid_1's rmse: 1.00076\n",
      "[320]\ttraining's rmse: 0.992042\tvalid_1's rmse: 0.993134\n",
      "[340]\ttraining's rmse: 0.985002\tvalid_1's rmse: 0.986103\n",
      "[360]\ttraining's rmse: 0.976637\tvalid_1's rmse: 0.977802\n",
      "[380]\ttraining's rmse: 0.971154\tvalid_1's rmse: 0.972359\n",
      "[400]\ttraining's rmse: 0.965223\tvalid_1's rmse: 0.966477\n",
      "[420]\ttraining's rmse: 0.957526\tvalid_1's rmse: 0.958856\n",
      "[440]\ttraining's rmse: 0.952499\tvalid_1's rmse: 0.953873\n",
      "[460]\ttraining's rmse: 0.948812\tvalid_1's rmse: 0.950197\n",
      "[480]\ttraining's rmse: 0.945599\tvalid_1's rmse: 0.947021\n",
      "[500]\ttraining's rmse: 0.94199\tvalid_1's rmse: 0.943414\n",
      "[520]\ttraining's rmse: 0.938195\tvalid_1's rmse: 0.939636\n",
      "[540]\ttraining's rmse: 0.93381\tvalid_1's rmse: 0.935262\n",
      "[560]\ttraining's rmse: 0.929434\tvalid_1's rmse: 0.930899\n",
      "[580]\ttraining's rmse: 0.925394\tvalid_1's rmse: 0.926909\n",
      "[600]\ttraining's rmse: 0.920431\tvalid_1's rmse: 0.921957\n",
      "[620]\ttraining's rmse: 0.91654\tvalid_1's rmse: 0.918119\n",
      "[640]\ttraining's rmse: 0.909443\tvalid_1's rmse: 0.911052\n",
      "[660]\ttraining's rmse: 0.905754\tvalid_1's rmse: 0.907347\n",
      "[680]\ttraining's rmse: 0.902412\tvalid_1's rmse: 0.903998\n",
      "[700]\ttraining's rmse: 0.897346\tvalid_1's rmse: 0.898916\n",
      "[720]\ttraining's rmse: 0.893288\tvalid_1's rmse: 0.894852\n",
      "[740]\ttraining's rmse: 0.889382\tvalid_1's rmse: 0.890955\n",
      "[760]\ttraining's rmse: 0.884538\tvalid_1's rmse: 0.886188\n",
      "[780]\ttraining's rmse: 0.881956\tvalid_1's rmse: 0.883643\n",
      "[800]\ttraining's rmse: 0.880251\tvalid_1's rmse: 0.881968\n",
      "[820]\ttraining's rmse: 0.877118\tvalid_1's rmse: 0.878877\n",
      "[840]\ttraining's rmse: 0.872841\tvalid_1's rmse: 0.874614\n",
      "[860]\ttraining's rmse: 0.869514\tvalid_1's rmse: 0.871306\n",
      "[880]\ttraining's rmse: 0.866278\tvalid_1's rmse: 0.868084\n",
      "[900]\ttraining's rmse: 0.863705\tvalid_1's rmse: 0.865564\n",
      "[920]\ttraining's rmse: 0.85971\tvalid_1's rmse: 0.861619\n",
      "[940]\ttraining's rmse: 0.855357\tvalid_1's rmse: 0.857315\n",
      "[960]\ttraining's rmse: 0.852935\tvalid_1's rmse: 0.854914\n",
      "[980]\ttraining's rmse: 0.850193\tvalid_1's rmse: 0.852197\n",
      "[1000]\ttraining's rmse: 0.846499\tvalid_1's rmse: 0.848508\n",
      "[1020]\ttraining's rmse: 0.843503\tvalid_1's rmse: 0.845526\n",
      "[1040]\ttraining's rmse: 0.84113\tvalid_1's rmse: 0.843182\n",
      "[1060]\ttraining's rmse: 0.837819\tvalid_1's rmse: 0.839891\n",
      "[1080]\ttraining's rmse: 0.835482\tvalid_1's rmse: 0.83755\n",
      "[1100]\ttraining's rmse: 0.833844\tvalid_1's rmse: 0.835943\n",
      "[1120]\ttraining's rmse: 0.831485\tvalid_1's rmse: 0.833582\n",
      "[1140]\ttraining's rmse: 0.828504\tvalid_1's rmse: 0.830623\n",
      "[1160]\ttraining's rmse: 0.825655\tvalid_1's rmse: 0.827812\n",
      "[1180]\ttraining's rmse: 0.82293\tvalid_1's rmse: 0.825103\n",
      "[1200]\ttraining's rmse: 0.820067\tvalid_1's rmse: 0.82229\n",
      "[1220]\ttraining's rmse: 0.818041\tvalid_1's rmse: 0.820278\n",
      "[1240]\ttraining's rmse: 0.816201\tvalid_1's rmse: 0.818483\n",
      "[1260]\ttraining's rmse: 0.813874\tvalid_1's rmse: 0.816218\n",
      "[1280]\ttraining's rmse: 0.811808\tvalid_1's rmse: 0.814197\n",
      "[1300]\ttraining's rmse: 0.810349\tvalid_1's rmse: 0.812776\n",
      "[1320]\ttraining's rmse: 0.808366\tvalid_1's rmse: 0.810838\n",
      "[1340]\ttraining's rmse: 0.80646\tvalid_1's rmse: 0.809015\n",
      "[1360]\ttraining's rmse: 0.803526\tvalid_1's rmse: 0.80612\n",
      "[1380]\ttraining's rmse: 0.80097\tvalid_1's rmse: 0.803622\n",
      "[1400]\ttraining's rmse: 0.798598\tvalid_1's rmse: 0.801313\n",
      "[1420]\ttraining's rmse: 0.796909\tvalid_1's rmse: 0.799661\n",
      "[1440]\ttraining's rmse: 0.794655\tvalid_1's rmse: 0.797481\n",
      "[1460]\ttraining's rmse: 0.793111\tvalid_1's rmse: 0.795981\n",
      "[1480]\ttraining's rmse: 0.791607\tvalid_1's rmse: 0.794502\n",
      "[1500]\ttraining's rmse: 0.790045\tvalid_1's rmse: 0.792973\n",
      "[1520]\ttraining's rmse: 0.788717\tvalid_1's rmse: 0.791701\n",
      "[1540]\ttraining's rmse: 0.787481\tvalid_1's rmse: 0.790514\n",
      "[1560]\ttraining's rmse: 0.785985\tvalid_1's rmse: 0.789032\n",
      "[1580]\ttraining's rmse: 0.784569\tvalid_1's rmse: 0.787638\n",
      "[1600]\ttraining's rmse: 0.783619\tvalid_1's rmse: 0.786714\n",
      "[1620]\ttraining's rmse: 0.782756\tvalid_1's rmse: 0.785874\n",
      "[1640]\ttraining's rmse: 0.781838\tvalid_1's rmse: 0.785001\n",
      "[1660]\ttraining's rmse: 0.780937\tvalid_1's rmse: 0.784133\n",
      "[1680]\ttraining's rmse: 0.779749\tvalid_1's rmse: 0.78297\n",
      "[1700]\ttraining's rmse: 0.778636\tvalid_1's rmse: 0.781896\n",
      "[1720]\ttraining's rmse: 0.777654\tvalid_1's rmse: 0.780948\n",
      "[1740]\ttraining's rmse: 0.776685\tvalid_1's rmse: 0.78001\n",
      "[1760]\ttraining's rmse: 0.775567\tvalid_1's rmse: 0.778904\n",
      "[1780]\ttraining's rmse: 0.774682\tvalid_1's rmse: 0.778016\n",
      "[1800]\ttraining's rmse: 0.77361\tvalid_1's rmse: 0.776958\n",
      "[1820]\ttraining's rmse: 0.772643\tvalid_1's rmse: 0.776018\n",
      "[1840]\ttraining's rmse: 0.771629\tvalid_1's rmse: 0.775043\n",
      "[1860]\ttraining's rmse: 0.770681\tvalid_1's rmse: 0.774137\n",
      "[1880]\ttraining's rmse: 0.769646\tvalid_1's rmse: 0.773122\n",
      "[1900]\ttraining's rmse: 0.769127\tvalid_1's rmse: 0.772643\n",
      "[1920]\ttraining's rmse: 0.768176\tvalid_1's rmse: 0.771721\n",
      "[1940]\ttraining's rmse: 0.767411\tvalid_1's rmse: 0.770988\n",
      "[1960]\ttraining's rmse: 0.766322\tvalid_1's rmse: 0.769909\n",
      "[1980]\ttraining's rmse: 0.765461\tvalid_1's rmse: 0.769052\n",
      "[2000]\ttraining's rmse: 0.763869\tvalid_1's rmse: 0.76749\n",
      "Did not meet early stopping. Best iteration is:\n",
      "[2000]\ttraining's rmse: 0.763869\tvalid_1's rmse: 0.76749\n",
      "\n",
      "Fold 1  Score:  0.5890413332175708\n",
      "Total time in second :  1162.49\n",
      "------------------------------------------------------------\n",
      "Training FOLD  2 \n",
      "\n",
      "Train index: \tfrom: 1 \tto: 15162074 \n",
      "\n",
      "Valid index: \tfrom: 0 \tto: 15162071 \n",
      "\n"
     ]
    },
    {
     "name": "stderr",
     "output_type": "stream",
     "text": [
      "/opt/conda/lib/python3.6/site-packages/lightgbm/basic.py:1295: UserWarning: categorical_feature in Dataset is overridden.\n",
      "New categorical_feature is ['air_temperature', 'building_id', 'day', 'dew_temperature', 'hour', 'meter', 'month', 'primary_use', 'site_id', 'square_feet']\n",
      "  'New categorical_feature is {}'.format(sorted(list(categorical_feature))))\n"
     ]
    },
    {
     "name": "stdout",
     "output_type": "stream",
     "text": [
      "Training until validation scores don't improve for 100 rounds\n",
      "[20]\ttraining's rmse: 1.64388\tvalid_1's rmse: 1.64336\n",
      "[40]\ttraining's rmse: 1.39673\tvalid_1's rmse: 1.39617\n",
      "[60]\ttraining's rmse: 1.30231\tvalid_1's rmse: 1.30178\n",
      "[80]\ttraining's rmse: 1.23003\tvalid_1's rmse: 1.22957\n",
      "[100]\ttraining's rmse: 1.18241\tvalid_1's rmse: 1.182\n",
      "[120]\ttraining's rmse: 1.14258\tvalid_1's rmse: 1.14224\n",
      "[140]\ttraining's rmse: 1.11351\tvalid_1's rmse: 1.11319\n",
      "[160]\ttraining's rmse: 1.08389\tvalid_1's rmse: 1.08356\n",
      "[180]\ttraining's rmse: 1.06233\tvalid_1's rmse: 1.06201\n",
      "[200]\ttraining's rmse: 1.04339\tvalid_1's rmse: 1.04314\n",
      "[220]\ttraining's rmse: 1.0291\tvalid_1's rmse: 1.02895\n",
      "[240]\ttraining's rmse: 1.01277\tvalid_1's rmse: 1.0127\n",
      "[260]\ttraining's rmse: 1.00092\tvalid_1's rmse: 1.00094\n",
      "[280]\ttraining's rmse: 0.989257\tvalid_1's rmse: 0.98928\n",
      "[300]\ttraining's rmse: 0.976689\tvalid_1's rmse: 0.976722\n",
      "[320]\ttraining's rmse: 0.971746\tvalid_1's rmse: 0.971804\n",
      "[340]\ttraining's rmse: 0.964216\tvalid_1's rmse: 0.964237\n",
      "[360]\ttraining's rmse: 0.957639\tvalid_1's rmse: 0.957694\n",
      "[380]\ttraining's rmse: 0.952154\tvalid_1's rmse: 0.95228\n",
      "[400]\ttraining's rmse: 0.947171\tvalid_1's rmse: 0.947322\n",
      "[420]\ttraining's rmse: 0.942636\tvalid_1's rmse: 0.942814\n",
      "[440]\ttraining's rmse: 0.939425\tvalid_1's rmse: 0.939608\n",
      "[460]\ttraining's rmse: 0.935264\tvalid_1's rmse: 0.935482\n",
      "[480]\ttraining's rmse: 0.930398\tvalid_1's rmse: 0.930611\n",
      "[500]\ttraining's rmse: 0.92552\tvalid_1's rmse: 0.925746\n",
      "[520]\ttraining's rmse: 0.92219\tvalid_1's rmse: 0.922456\n",
      "[540]\ttraining's rmse: 0.919002\tvalid_1's rmse: 0.919275\n",
      "[560]\ttraining's rmse: 0.915445\tvalid_1's rmse: 0.915764\n",
      "[580]\ttraining's rmse: 0.911295\tvalid_1's rmse: 0.91164\n",
      "[600]\ttraining's rmse: 0.905823\tvalid_1's rmse: 0.906213\n",
      "[620]\ttraining's rmse: 0.900894\tvalid_1's rmse: 0.901318\n",
      "[640]\ttraining's rmse: 0.898067\tvalid_1's rmse: 0.898512\n",
      "[660]\ttraining's rmse: 0.895233\tvalid_1's rmse: 0.895724\n",
      "[680]\ttraining's rmse: 0.89188\tvalid_1's rmse: 0.89242\n",
      "[700]\ttraining's rmse: 0.888987\tvalid_1's rmse: 0.889548\n",
      "[720]\ttraining's rmse: 0.886183\tvalid_1's rmse: 0.886783\n",
      "[740]\ttraining's rmse: 0.884519\tvalid_1's rmse: 0.885121\n",
      "[760]\ttraining's rmse: 0.882954\tvalid_1's rmse: 0.883609\n",
      "[780]\ttraining's rmse: 0.880591\tvalid_1's rmse: 0.881289\n",
      "[800]\ttraining's rmse: 0.878544\tvalid_1's rmse: 0.879251\n",
      "[820]\ttraining's rmse: 0.876391\tvalid_1's rmse: 0.877116\n",
      "[840]\ttraining's rmse: 0.874295\tvalid_1's rmse: 0.875056\n",
      "[860]\ttraining's rmse: 0.871656\tvalid_1's rmse: 0.87244\n",
      "[880]\ttraining's rmse: 0.867023\tvalid_1's rmse: 0.867832\n",
      "[900]\ttraining's rmse: 0.863853\tvalid_1's rmse: 0.86467\n",
      "[920]\ttraining's rmse: 0.861651\tvalid_1's rmse: 0.862487\n",
      "[940]\ttraining's rmse: 0.858723\tvalid_1's rmse: 0.8596\n",
      "[960]\ttraining's rmse: 0.85533\tvalid_1's rmse: 0.856227\n",
      "[980]\ttraining's rmse: 0.85258\tvalid_1's rmse: 0.853477\n",
      "[1000]\ttraining's rmse: 0.848628\tvalid_1's rmse: 0.849565\n",
      "[1020]\ttraining's rmse: 0.844828\tvalid_1's rmse: 0.845781\n",
      "[1040]\ttraining's rmse: 0.842855\tvalid_1's rmse: 0.843838\n",
      "[1060]\ttraining's rmse: 0.840919\tvalid_1's rmse: 0.841917\n",
      "[1080]\ttraining's rmse: 0.838289\tvalid_1's rmse: 0.839304\n",
      "[1100]\ttraining's rmse: 0.836442\tvalid_1's rmse: 0.837477\n",
      "[1120]\ttraining's rmse: 0.833029\tvalid_1's rmse: 0.8341\n",
      "[1140]\ttraining's rmse: 0.829823\tvalid_1's rmse: 0.83094\n",
      "[1160]\ttraining's rmse: 0.82694\tvalid_1's rmse: 0.828112\n",
      "[1180]\ttraining's rmse: 0.824214\tvalid_1's rmse: 0.825419\n",
      "[1200]\ttraining's rmse: 0.82143\tvalid_1's rmse: 0.822679\n",
      "[1220]\ttraining's rmse: 0.818529\tvalid_1's rmse: 0.819839\n",
      "[1240]\ttraining's rmse: 0.816051\tvalid_1's rmse: 0.817391\n",
      "[1260]\ttraining's rmse: 0.81414\tvalid_1's rmse: 0.815497\n",
      "[1280]\ttraining's rmse: 0.81218\tvalid_1's rmse: 0.813557\n",
      "[1300]\ttraining's rmse: 0.810461\tvalid_1's rmse: 0.811875\n",
      "[1320]\ttraining's rmse: 0.809389\tvalid_1's rmse: 0.810784\n",
      "[1340]\ttraining's rmse: 0.808167\tvalid_1's rmse: 0.809571\n",
      "[1360]\ttraining's rmse: 0.806602\tvalid_1's rmse: 0.808026\n",
      "[1380]\ttraining's rmse: 0.804532\tvalid_1's rmse: 0.806014\n",
      "[1400]\ttraining's rmse: 0.802967\tvalid_1's rmse: 0.804484\n",
      "[1420]\ttraining's rmse: 0.801389\tvalid_1's rmse: 0.802939\n",
      "[1440]\ttraining's rmse: 0.799964\tvalid_1's rmse: 0.801535\n",
      "[1460]\ttraining's rmse: 0.798707\tvalid_1's rmse: 0.800311\n",
      "[1480]\ttraining's rmse: 0.797049\tvalid_1's rmse: 0.798674\n",
      "[1500]\ttraining's rmse: 0.796007\tvalid_1's rmse: 0.797678\n",
      "[1520]\ttraining's rmse: 0.794582\tvalid_1's rmse: 0.796246\n",
      "[1540]\ttraining's rmse: 0.79384\tvalid_1's rmse: 0.795526\n",
      "[1560]\ttraining's rmse: 0.792885\tvalid_1's rmse: 0.794609\n",
      "[1580]\ttraining's rmse: 0.791883\tvalid_1's rmse: 0.79361\n",
      "[1600]\ttraining's rmse: 0.790855\tvalid_1's rmse: 0.792609\n",
      "[1620]\ttraining's rmse: 0.78992\tvalid_1's rmse: 0.791698\n",
      "[1640]\ttraining's rmse: 0.78892\tvalid_1's rmse: 0.790722\n",
      "[1660]\ttraining's rmse: 0.787843\tvalid_1's rmse: 0.789678\n",
      "[1680]\ttraining's rmse: 0.786994\tvalid_1's rmse: 0.788859\n",
      "[1700]\ttraining's rmse: 0.785619\tvalid_1's rmse: 0.787484\n",
      "[1720]\ttraining's rmse: 0.784674\tvalid_1's rmse: 0.786572\n",
      "[1740]\ttraining's rmse: 0.782973\tvalid_1's rmse: 0.784885\n",
      "[1760]\ttraining's rmse: 0.78168\tvalid_1's rmse: 0.78361\n",
      "[1780]\ttraining's rmse: 0.780349\tvalid_1's rmse: 0.782285\n",
      "[1800]\ttraining's rmse: 0.779195\tvalid_1's rmse: 0.781138\n",
      "[1820]\ttraining's rmse: 0.777976\tvalid_1's rmse: 0.77997\n",
      "[1840]\ttraining's rmse: 0.776792\tvalid_1's rmse: 0.778838\n",
      "[1860]\ttraining's rmse: 0.77597\tvalid_1's rmse: 0.778045\n",
      "[1880]\ttraining's rmse: 0.775244\tvalid_1's rmse: 0.777367\n",
      "[1900]\ttraining's rmse: 0.774029\tvalid_1's rmse: 0.7762\n",
      "[1920]\ttraining's rmse: 0.772936\tvalid_1's rmse: 0.775153\n",
      "[1940]\ttraining's rmse: 0.772148\tvalid_1's rmse: 0.774402\n",
      "[1960]\ttraining's rmse: 0.770753\tvalid_1's rmse: 0.773024\n",
      "[1980]\ttraining's rmse: 0.769491\tvalid_1's rmse: 0.771774\n",
      "[2000]\ttraining's rmse: 0.768896\tvalid_1's rmse: 0.771204\n",
      "Did not meet early stopping. Best iteration is:\n",
      "[2000]\ttraining's rmse: 0.768896\tvalid_1's rmse: 0.771204\n",
      "\n",
      "Fold 2  Score:  0.5947562971981833\n",
      "Total time in second :  1104.1\n",
      "------------------------------------------------------------\n",
      "Training FOLD  3 \n",
      "\n",
      "Train index: \tfrom: 0 \tto: 15162074 \n",
      "\n",
      "Valid index: \tfrom: 1 \tto: 15162068 \n",
      "\n"
     ]
    },
    {
     "name": "stderr",
     "output_type": "stream",
     "text": [
      "/opt/conda/lib/python3.6/site-packages/lightgbm/basic.py:1295: UserWarning: categorical_feature in Dataset is overridden.\n",
      "New categorical_feature is ['air_temperature', 'building_id', 'day', 'dew_temperature', 'hour', 'meter', 'month', 'primary_use', 'site_id', 'square_feet']\n",
      "  'New categorical_feature is {}'.format(sorted(list(categorical_feature))))\n"
     ]
    },
    {
     "name": "stdout",
     "output_type": "stream",
     "text": [
      "Training until validation scores don't improve for 100 rounds\n",
      "[20]\ttraining's rmse: 1.64404\tvalid_1's rmse: 1.64445\n",
      "[40]\ttraining's rmse: 1.3968\tvalid_1's rmse: 1.39764\n",
      "[60]\ttraining's rmse: 1.28892\tvalid_1's rmse: 1.29012\n",
      "[80]\ttraining's rmse: 1.22679\tvalid_1's rmse: 1.22812\n",
      "[100]\ttraining's rmse: 1.18095\tvalid_1's rmse: 1.18232\n",
      "[120]\ttraining's rmse: 1.14255\tvalid_1's rmse: 1.14391\n",
      "[140]\ttraining's rmse: 1.10845\tvalid_1's rmse: 1.10974\n",
      "[160]\ttraining's rmse: 1.08878\tvalid_1's rmse: 1.09007\n",
      "[180]\ttraining's rmse: 1.07374\tvalid_1's rmse: 1.07506\n",
      "[200]\ttraining's rmse: 1.05418\tvalid_1's rmse: 1.0555\n",
      "[220]\ttraining's rmse: 1.04197\tvalid_1's rmse: 1.04334\n",
      "[240]\ttraining's rmse: 1.03018\tvalid_1's rmse: 1.03159\n",
      "[260]\ttraining's rmse: 1.01959\tvalid_1's rmse: 1.02102\n",
      "[280]\ttraining's rmse: 1.00836\tvalid_1's rmse: 1.00979\n",
      "[300]\ttraining's rmse: 0.99948\tvalid_1's rmse: 1.00089\n",
      "[320]\ttraining's rmse: 0.988765\tvalid_1's rmse: 0.99015\n",
      "[340]\ttraining's rmse: 0.982038\tvalid_1's rmse: 0.98347\n",
      "[360]\ttraining's rmse: 0.976168\tvalid_1's rmse: 0.977619\n",
      "[380]\ttraining's rmse: 0.969743\tvalid_1's rmse: 0.971251\n",
      "[400]\ttraining's rmse: 0.965645\tvalid_1's rmse: 0.967194\n",
      "[420]\ttraining's rmse: 0.95995\tvalid_1's rmse: 0.96147\n",
      "[440]\ttraining's rmse: 0.949823\tvalid_1's rmse: 0.951335\n",
      "[460]\ttraining's rmse: 0.943009\tvalid_1's rmse: 0.944466\n",
      "[480]\ttraining's rmse: 0.936802\tvalid_1's rmse: 0.938229\n",
      "[500]\ttraining's rmse: 0.930911\tvalid_1's rmse: 0.932367\n",
      "[520]\ttraining's rmse: 0.927022\tvalid_1's rmse: 0.928471\n",
      "[540]\ttraining's rmse: 0.921719\tvalid_1's rmse: 0.923172\n",
      "[560]\ttraining's rmse: 0.917846\tvalid_1's rmse: 0.919298\n",
      "[580]\ttraining's rmse: 0.912495\tvalid_1's rmse: 0.913932\n",
      "[600]\ttraining's rmse: 0.909664\tvalid_1's rmse: 0.911139\n",
      "[620]\ttraining's rmse: 0.905696\tvalid_1's rmse: 0.907234\n",
      "[640]\ttraining's rmse: 0.901993\tvalid_1's rmse: 0.903536\n",
      "[660]\ttraining's rmse: 0.899162\tvalid_1's rmse: 0.900787\n",
      "[680]\ttraining's rmse: 0.896261\tvalid_1's rmse: 0.897966\n",
      "[700]\ttraining's rmse: 0.892508\tvalid_1's rmse: 0.894257\n",
      "[720]\ttraining's rmse: 0.889289\tvalid_1's rmse: 0.891073\n",
      "[740]\ttraining's rmse: 0.886012\tvalid_1's rmse: 0.887851\n",
      "[760]\ttraining's rmse: 0.882576\tvalid_1's rmse: 0.884404\n",
      "[780]\ttraining's rmse: 0.879126\tvalid_1's rmse: 0.880978\n",
      "[800]\ttraining's rmse: 0.876066\tvalid_1's rmse: 0.877912\n",
      "[820]\ttraining's rmse: 0.87129\tvalid_1's rmse: 0.873098\n",
      "[840]\ttraining's rmse: 0.867895\tvalid_1's rmse: 0.869729\n",
      "[860]\ttraining's rmse: 0.86515\tvalid_1's rmse: 0.866963\n",
      "[880]\ttraining's rmse: 0.860626\tvalid_1's rmse: 0.862425\n",
      "[900]\ttraining's rmse: 0.856227\tvalid_1's rmse: 0.858066\n",
      "[920]\ttraining's rmse: 0.853081\tvalid_1's rmse: 0.854971\n",
      "[940]\ttraining's rmse: 0.84982\tvalid_1's rmse: 0.851757\n",
      "[960]\ttraining's rmse: 0.846623\tvalid_1's rmse: 0.848549\n",
      "[980]\ttraining's rmse: 0.843889\tvalid_1's rmse: 0.84583\n",
      "[1000]\ttraining's rmse: 0.841424\tvalid_1's rmse: 0.843395\n",
      "[1020]\ttraining's rmse: 0.839321\tvalid_1's rmse: 0.841339\n",
      "[1040]\ttraining's rmse: 0.836717\tvalid_1's rmse: 0.83877\n",
      "[1060]\ttraining's rmse: 0.834268\tvalid_1's rmse: 0.836357\n",
      "[1080]\ttraining's rmse: 0.831646\tvalid_1's rmse: 0.833735\n",
      "[1100]\ttraining's rmse: 0.829995\tvalid_1's rmse: 0.832113\n",
      "[1120]\ttraining's rmse: 0.828184\tvalid_1's rmse: 0.830334\n",
      "[1140]\ttraining's rmse: 0.826418\tvalid_1's rmse: 0.82859\n",
      "[1160]\ttraining's rmse: 0.824931\tvalid_1's rmse: 0.82713\n",
      "[1180]\ttraining's rmse: 0.822958\tvalid_1's rmse: 0.825167\n",
      "[1200]\ttraining's rmse: 0.821194\tvalid_1's rmse: 0.823422\n",
      "[1220]\ttraining's rmse: 0.819568\tvalid_1's rmse: 0.82184\n",
      "[1240]\ttraining's rmse: 0.817595\tvalid_1's rmse: 0.8199\n",
      "[1260]\ttraining's rmse: 0.815851\tvalid_1's rmse: 0.818184\n",
      "[1280]\ttraining's rmse: 0.813795\tvalid_1's rmse: 0.816151\n",
      "[1300]\ttraining's rmse: 0.811904\tvalid_1's rmse: 0.814279\n",
      "[1320]\ttraining's rmse: 0.810407\tvalid_1's rmse: 0.812816\n",
      "[1340]\ttraining's rmse: 0.80857\tvalid_1's rmse: 0.810991\n",
      "[1360]\ttraining's rmse: 0.806974\tvalid_1's rmse: 0.809412\n",
      "[1380]\ttraining's rmse: 0.805533\tvalid_1's rmse: 0.808002\n",
      "[1400]\ttraining's rmse: 0.803773\tvalid_1's rmse: 0.806255\n",
      "[1420]\ttraining's rmse: 0.802451\tvalid_1's rmse: 0.804972\n",
      "[1440]\ttraining's rmse: 0.800995\tvalid_1's rmse: 0.803545\n",
      "[1460]\ttraining's rmse: 0.799699\tvalid_1's rmse: 0.802273\n",
      "[1480]\ttraining's rmse: 0.797363\tvalid_1's rmse: 0.79998\n",
      "[1500]\ttraining's rmse: 0.795031\tvalid_1's rmse: 0.797705\n",
      "[1520]\ttraining's rmse: 0.793053\tvalid_1's rmse: 0.795793\n",
      "[1540]\ttraining's rmse: 0.790775\tvalid_1's rmse: 0.793544\n",
      "[1560]\ttraining's rmse: 0.789288\tvalid_1's rmse: 0.792084\n",
      "[1580]\ttraining's rmse: 0.787759\tvalid_1's rmse: 0.790584\n",
      "[1600]\ttraining's rmse: 0.786454\tvalid_1's rmse: 0.789335\n",
      "[1620]\ttraining's rmse: 0.785012\tvalid_1's rmse: 0.787897\n",
      "[1640]\ttraining's rmse: 0.783874\tvalid_1's rmse: 0.786798\n",
      "[1660]\ttraining's rmse: 0.782324\tvalid_1's rmse: 0.785271\n",
      "[1680]\ttraining's rmse: 0.781233\tvalid_1's rmse: 0.784207\n",
      "[1700]\ttraining's rmse: 0.779769\tvalid_1's rmse: 0.782767\n",
      "[1720]\ttraining's rmse: 0.778663\tvalid_1's rmse: 0.781689\n",
      "[1740]\ttraining's rmse: 0.777749\tvalid_1's rmse: 0.780797\n",
      "[1760]\ttraining's rmse: 0.776139\tvalid_1's rmse: 0.779196\n",
      "[1780]\ttraining's rmse: 0.774996\tvalid_1's rmse: 0.778078\n",
      "[1800]\ttraining's rmse: 0.773682\tvalid_1's rmse: 0.776776\n",
      "[1820]\ttraining's rmse: 0.772616\tvalid_1's rmse: 0.775721\n",
      "[1840]\ttraining's rmse: 0.77175\tvalid_1's rmse: 0.774884\n",
      "[1860]\ttraining's rmse: 0.771004\tvalid_1's rmse: 0.774168\n",
      "[1880]\ttraining's rmse: 0.770243\tvalid_1's rmse: 0.773435\n",
      "[1900]\ttraining's rmse: 0.769458\tvalid_1's rmse: 0.772672\n",
      "[1920]\ttraining's rmse: 0.768733\tvalid_1's rmse: 0.771981\n",
      "[1940]\ttraining's rmse: 0.767948\tvalid_1's rmse: 0.771227\n",
      "[1960]\ttraining's rmse: 0.767061\tvalid_1's rmse: 0.770361\n",
      "[1980]\ttraining's rmse: 0.766416\tvalid_1's rmse: 0.769767\n",
      "[2000]\ttraining's rmse: 0.765473\tvalid_1's rmse: 0.7689\n",
      "Did not meet early stopping. Best iteration is:\n",
      "[2000]\ttraining's rmse: 0.765473\tvalid_1's rmse: 0.7689\n",
      "\n",
      "Fold 3  Score:  0.5912071858482064\n",
      "Total time in second :  1299.15\n",
      "------------------------------------------------------------\n",
      "Training FOLD  4 \n",
      "\n",
      "Train index: \tfrom: 0 \tto: 15162074 \n",
      "\n",
      "Valid index: \tfrom: 9 \tto: 15162073 \n",
      "\n"
     ]
    },
    {
     "name": "stderr",
     "output_type": "stream",
     "text": [
      "/opt/conda/lib/python3.6/site-packages/lightgbm/basic.py:1295: UserWarning: categorical_feature in Dataset is overridden.\n",
      "New categorical_feature is ['air_temperature', 'building_id', 'day', 'dew_temperature', 'hour', 'meter', 'month', 'primary_use', 'site_id', 'square_feet']\n",
      "  'New categorical_feature is {}'.format(sorted(list(categorical_feature))))\n"
     ]
    },
    {
     "name": "stdout",
     "output_type": "stream",
     "text": [
      "Training until validation scores don't improve for 100 rounds\n",
      "[20]\ttraining's rmse: 1.64893\tvalid_1's rmse: 1.64963\n",
      "[40]\ttraining's rmse: 1.40483\tvalid_1's rmse: 1.4057\n",
      "[60]\ttraining's rmse: 1.29915\tvalid_1's rmse: 1.30008\n",
      "[80]\ttraining's rmse: 1.2356\tvalid_1's rmse: 1.23658\n",
      "[100]\ttraining's rmse: 1.19142\tvalid_1's rmse: 1.19245\n",
      "[120]\ttraining's rmse: 1.1554\tvalid_1's rmse: 1.15651\n",
      "[140]\ttraining's rmse: 1.12092\tvalid_1's rmse: 1.12219\n",
      "[160]\ttraining's rmse: 1.09802\tvalid_1's rmse: 1.09943\n",
      "[180]\ttraining's rmse: 1.07788\tvalid_1's rmse: 1.07943\n",
      "[200]\ttraining's rmse: 1.05904\tvalid_1's rmse: 1.06071\n",
      "[220]\ttraining's rmse: 1.04607\tvalid_1's rmse: 1.0478\n",
      "[240]\ttraining's rmse: 1.03488\tvalid_1's rmse: 1.0367\n",
      "[260]\ttraining's rmse: 1.02402\tvalid_1's rmse: 1.02592\n",
      "[280]\ttraining's rmse: 1.01397\tvalid_1's rmse: 1.01593\n",
      "[300]\ttraining's rmse: 1.00556\tvalid_1's rmse: 1.00755\n",
      "[320]\ttraining's rmse: 0.997068\tvalid_1's rmse: 0.999132\n",
      "[340]\ttraining's rmse: 0.98727\tvalid_1's rmse: 0.989391\n",
      "[360]\ttraining's rmse: 0.975939\tvalid_1's rmse: 0.97813\n",
      "[380]\ttraining's rmse: 0.960807\tvalid_1's rmse: 0.963076\n",
      "[400]\ttraining's rmse: 0.949409\tvalid_1's rmse: 0.951822\n",
      "[420]\ttraining's rmse: 0.942882\tvalid_1's rmse: 0.945377\n",
      "[440]\ttraining's rmse: 0.936991\tvalid_1's rmse: 0.939577\n",
      "[460]\ttraining's rmse: 0.931453\tvalid_1's rmse: 0.934127\n",
      "[480]\ttraining's rmse: 0.926797\tvalid_1's rmse: 0.929528\n",
      "[500]\ttraining's rmse: 0.923574\tvalid_1's rmse: 0.926343\n",
      "[520]\ttraining's rmse: 0.919725\tvalid_1's rmse: 0.922502\n",
      "[540]\ttraining's rmse: 0.916087\tvalid_1's rmse: 0.918912\n",
      "[560]\ttraining's rmse: 0.910117\tvalid_1's rmse: 0.912941\n",
      "[580]\ttraining's rmse: 0.904887\tvalid_1's rmse: 0.907749\n",
      "[600]\ttraining's rmse: 0.900214\tvalid_1's rmse: 0.903103\n",
      "[620]\ttraining's rmse: 0.896075\tvalid_1's rmse: 0.899028\n",
      "[640]\ttraining's rmse: 0.893286\tvalid_1's rmse: 0.896329\n",
      "[660]\ttraining's rmse: 0.889858\tvalid_1's rmse: 0.892927\n",
      "[680]\ttraining's rmse: 0.886973\tvalid_1's rmse: 0.890071\n",
      "[700]\ttraining's rmse: 0.884078\tvalid_1's rmse: 0.887189\n",
      "[720]\ttraining's rmse: 0.88095\tvalid_1's rmse: 0.88409\n",
      "[740]\ttraining's rmse: 0.878741\tvalid_1's rmse: 0.881908\n",
      "[760]\ttraining's rmse: 0.876155\tvalid_1's rmse: 0.879349\n",
      "[780]\ttraining's rmse: 0.872806\tvalid_1's rmse: 0.876034\n",
      "[800]\ttraining's rmse: 0.869638\tvalid_1's rmse: 0.872884\n",
      "[820]\ttraining's rmse: 0.866168\tvalid_1's rmse: 0.869451\n",
      "[840]\ttraining's rmse: 0.862449\tvalid_1's rmse: 0.865765\n",
      "[860]\ttraining's rmse: 0.858564\tvalid_1's rmse: 0.861899\n",
      "[880]\ttraining's rmse: 0.855486\tvalid_1's rmse: 0.85888\n",
      "[900]\ttraining's rmse: 0.852744\tvalid_1's rmse: 0.856165\n",
      "[920]\ttraining's rmse: 0.850059\tvalid_1's rmse: 0.853506\n",
      "[940]\ttraining's rmse: 0.846352\tvalid_1's rmse: 0.849821\n",
      "[960]\ttraining's rmse: 0.843373\tvalid_1's rmse: 0.846854\n",
      "[980]\ttraining's rmse: 0.8409\tvalid_1's rmse: 0.844421\n",
      "[1000]\ttraining's rmse: 0.838198\tvalid_1's rmse: 0.841784\n",
      "[1020]\ttraining's rmse: 0.835713\tvalid_1's rmse: 0.83934\n",
      "[1040]\ttraining's rmse: 0.832405\tvalid_1's rmse: 0.836094\n",
      "[1060]\ttraining's rmse: 0.830606\tvalid_1's rmse: 0.834335\n",
      "[1080]\ttraining's rmse: 0.828919\tvalid_1's rmse: 0.832651\n",
      "[1100]\ttraining's rmse: 0.82736\tvalid_1's rmse: 0.83113\n",
      "[1120]\ttraining's rmse: 0.825902\tvalid_1's rmse: 0.82971\n",
      "[1140]\ttraining's rmse: 0.824821\tvalid_1's rmse: 0.828642\n",
      "[1160]\ttraining's rmse: 0.823618\tvalid_1's rmse: 0.827469\n",
      "[1180]\ttraining's rmse: 0.822706\tvalid_1's rmse: 0.826609\n",
      "[1200]\ttraining's rmse: 0.821651\tvalid_1's rmse: 0.825567\n",
      "[1220]\ttraining's rmse: 0.820744\tvalid_1's rmse: 0.824692\n",
      "[1240]\ttraining's rmse: 0.819846\tvalid_1's rmse: 0.823821\n",
      "[1260]\ttraining's rmse: 0.818491\tvalid_1's rmse: 0.822492\n",
      "[1280]\ttraining's rmse: 0.816985\tvalid_1's rmse: 0.821032\n",
      "[1300]\ttraining's rmse: 0.81579\tvalid_1's rmse: 0.819864\n",
      "[1320]\ttraining's rmse: 0.813829\tvalid_1's rmse: 0.817924\n",
      "[1340]\ttraining's rmse: 0.812854\tvalid_1's rmse: 0.816947\n",
      "[1360]\ttraining's rmse: 0.811052\tvalid_1's rmse: 0.815144\n",
      "[1380]\ttraining's rmse: 0.809732\tvalid_1's rmse: 0.813845\n",
      "[1400]\ttraining's rmse: 0.807791\tvalid_1's rmse: 0.811948\n",
      "[1420]\ttraining's rmse: 0.806451\tvalid_1's rmse: 0.810635\n",
      "[1440]\ttraining's rmse: 0.805006\tvalid_1's rmse: 0.809207\n",
      "[1460]\ttraining's rmse: 0.804054\tvalid_1's rmse: 0.808265\n",
      "[1480]\ttraining's rmse: 0.803073\tvalid_1's rmse: 0.807304\n",
      "[1500]\ttraining's rmse: 0.802443\tvalid_1's rmse: 0.806687\n",
      "[1520]\ttraining's rmse: 0.801642\tvalid_1's rmse: 0.805915\n",
      "[1540]\ttraining's rmse: 0.800881\tvalid_1's rmse: 0.805185\n",
      "[1560]\ttraining's rmse: 0.800003\tvalid_1's rmse: 0.804345\n",
      "[1580]\ttraining's rmse: 0.799286\tvalid_1's rmse: 0.803641\n",
      "[1600]\ttraining's rmse: 0.797397\tvalid_1's rmse: 0.801773\n",
      "[1620]\ttraining's rmse: 0.796229\tvalid_1's rmse: 0.800642\n",
      "[1640]\ttraining's rmse: 0.79478\tvalid_1's rmse: 0.799229\n",
      "[1660]\ttraining's rmse: 0.793636\tvalid_1's rmse: 0.798112\n",
      "[1680]\ttraining's rmse: 0.792727\tvalid_1's rmse: 0.797219\n",
      "[1700]\ttraining's rmse: 0.791684\tvalid_1's rmse: 0.796196\n",
      "[1720]\ttraining's rmse: 0.790486\tvalid_1's rmse: 0.795028\n",
      "[1740]\ttraining's rmse: 0.789499\tvalid_1's rmse: 0.794061\n",
      "[1760]\ttraining's rmse: 0.788739\tvalid_1's rmse: 0.793366\n",
      "[1780]\ttraining's rmse: 0.788032\tvalid_1's rmse: 0.792692\n",
      "[1800]\ttraining's rmse: 0.787079\tvalid_1's rmse: 0.791758\n",
      "[1820]\ttraining's rmse: 0.786166\tvalid_1's rmse: 0.790863\n",
      "[1840]\ttraining's rmse: 0.784781\tvalid_1's rmse: 0.789504\n",
      "[1860]\ttraining's rmse: 0.783502\tvalid_1's rmse: 0.788263\n",
      "[1880]\ttraining's rmse: 0.782157\tvalid_1's rmse: 0.786951\n",
      "[1900]\ttraining's rmse: 0.780995\tvalid_1's rmse: 0.785812\n",
      "[1920]\ttraining's rmse: 0.780099\tvalid_1's rmse: 0.784934\n",
      "[1940]\ttraining's rmse: 0.779232\tvalid_1's rmse: 0.784096\n",
      "[1960]\ttraining's rmse: 0.778136\tvalid_1's rmse: 0.783038\n",
      "[1980]\ttraining's rmse: 0.777186\tvalid_1's rmse: 0.782102\n",
      "[2000]\ttraining's rmse: 0.77651\tvalid_1's rmse: 0.781454\n",
      "Did not meet early stopping. Best iteration is:\n",
      "[2000]\ttraining's rmse: 0.77651\tvalid_1's rmse: 0.781454\n",
      "\n",
      "Fold 4  Score:  0.6106700776334087\n",
      "Total time in second :  956.29\n",
      "------------------------------------------------------------\n",
      "CV error:  0.5972433729344472\n"
     ]
    }
   ],
   "source": [
    "import time\n",
    "\n",
    "from sklearn.model_selection import KFold\n",
    "num_folds = 5\n",
    "kf = KFold(n_splits = num_folds, shuffle = True, random_state = None)\n",
    "error = 0\n",
    "\n",
    "for fold, (train_index, val_index) in enumerate(kf.split(feature_train, target_train)):\n",
    "    start = time.time()\n",
    "    print ('Training FOLD ',fold,'\\n')\n",
    "    print('Train index:','\\tfrom:',train_index.min(),'\\tto:',train_index.max(),'\\n')\n",
    "    print('Valid index:','\\tfrom:',val_index.min(),'\\tto:',val_index.max(),'\\n')\n",
    "    \n",
    "    train_X = feature_train[imp_features].iloc[train_index]\n",
    "    val_X = feature_train[imp_features].iloc[val_index]\n",
    "    train_y = target_train.iloc[train_index]\n",
    "    val_y = target_train.iloc[val_index]\n",
    "    lgb_train = lightgbm.Dataset(train_X, train_y)\n",
    "    lgb_eval = lightgbm.Dataset(val_X, val_y)\n",
    "    \n",
    "    params = {\n",
    "            'boosting_type': 'gbdt',\n",
    "            'objective': 'regression',\n",
    "            'metric': {'rmse'},\n",
    "            'num_leaves': 20,\n",
    "            'learning_rate': 0.05,\n",
    "            'feature_fraction': 0.8,\n",
    "            'bagging_fraction': 0.8, \n",
    "            'alpha': 0.1, \n",
    "            'lambda': 0.1\n",
    "            }\n",
    "    \n",
    "    gbm = lightgbm.train(params,\n",
    "                lgb_train,\n",
    "                num_boost_round=2000,\n",
    "                categorical_feature = imp_features,\n",
    "                valid_sets=(lgb_train, lgb_eval),\n",
    "                early_stopping_rounds=100,\n",
    "                verbose_eval = 20)\n",
    "\n",
    "    y_pred = gbm.predict(val_X, num_iteration=gbm.best_iteration)\n",
    "    \n",
    "    error += mean_squared_error(val_y, y_pred)/num_folds\n",
    "#     error += rmsle(val_y, y_pred)/num_folds\n",
    "    total_time = time.time()-start\n",
    "    print('\\nFold',fold,' Score: ',mean_squared_error(val_y, y_pred))\n",
    "    print(\"Total time in second : \", round(total_time,2))\n",
    "    del train_X, val_X, train_y, val_y, lgb_train, lgb_eval\n",
    "    gc.collect()\n",
    "\n",
    "    print (20*'---')\n",
    "    \n",
    "print('CV error: ',error)"
   ]
  },
  {
   "cell_type": "code",
   "execution_count": 41,
   "metadata": {},
   "outputs": [
    {
     "name": "stderr",
     "output_type": "stream",
     "text": [
      "100%|██████████| 10109/10109 [07:50<00:00, 21.49it/s]\n"
     ]
    }
   ],
   "source": [
    "from tqdm import tqdm\n",
    "i=0\n",
    "y_pred1=[]\n",
    "step_size = 500 \n",
    "for j in tqdm(range(int(np.ceil(feature_validation.shape[0]/500)))):\n",
    "    y_pred1.append(np.expm1(gbm.predict(feature_validation.iloc[i:i+step_size])))\n",
    "    i+=step_size"
   ]
  },
  {
   "cell_type": "code",
   "execution_count": 42,
   "metadata": {},
   "outputs": [],
   "source": [
    "res = np.concatenate(y_pred1)\n",
    "l = []\n",
    "d = []\n",
    "for i in target_validation:\n",
    "    d.append(i+1)\n",
    "for i in res:\n",
    "    l.append(i+1)"
   ]
  },
  {
   "cell_type": "code",
   "execution_count": null,
   "metadata": {},
   "outputs": [],
   "source": []
  },
  {
   "cell_type": "code",
   "execution_count": 44,
   "metadata": {},
   "outputs": [
    {
     "name": "stdout",
     "output_type": "stream",
     "text": [
      "rmsle 5.513395249528701\n"
     ]
    }
   ],
   "source": [
    "\n",
    "print(\"rmsle\",mean_squared_log_error(d,l))"
   ]
  },
  {
   "cell_type": "code",
   "execution_count": null,
   "metadata": {},
   "outputs": [],
   "source": [
    "building_df = pd.read_csv(\"/kaggle/input/ashrae-energy-prediction/building_metadata.csv\")\n",
    "test_df = pd.read_csv(\"/kaggle/input/ashrae-energy-prediction/test.csv\")\n",
    "weather_test_df = pd.read_csv(\"/kaggle/input/ashrae-energy-prediction/weather_test.csv\")"
   ]
  },
  {
   "cell_type": "code",
   "execution_count": null,
   "metadata": {},
   "outputs": [],
   "source": [
    "building_df = reduce_mem_usage(building_df)\n",
    "test_df = reduce_mem_usage(test_df)\n",
    "weather_test_df = reduce_mem_usage(weather_test_df)"
   ]
  },
  {
   "cell_type": "code",
   "execution_count": null,
   "metadata": {},
   "outputs": [],
   "source": [
    "building_merge_test_df = test_df.merge(building_df, on='building_id', how='left')\n",
    "df_test = building_merge_test_df.merge(weather_test_df, on=['site_id', 'timestamp'], how='left')"
   ]
  },
  {
   "cell_type": "code",
   "execution_count": null,
   "metadata": {},
   "outputs": [],
   "source": [
    "del test_df\n",
    "del building_df\n",
    "del weather_test_df\n",
    "gc.collect()"
   ]
  },
  {
   "cell_type": "code",
   "execution_count": null,
   "metadata": {},
   "outputs": [],
   "source": [
    "df_test[\"timestamp\"] = pd.to_datetime(df_test[\"timestamp\"])\n",
    "df_test[\"hour\"] = df_test[\"timestamp\"].dt.hour\n",
    "df_test[\"day\"] = df_test[\"timestamp\"].dt.day\n",
    "df_test[\"month\"] = df_test[\"timestamp\"].dt.month"
   ]
  },
  {
   "cell_type": "code",
   "execution_count": null,
   "metadata": {},
   "outputs": [],
   "source": [
    "drop_features = [\"timestamp\",\"floor_count\",\"year_built\", \"cloud_coverage\",\"sea_level_pressure\", \"wind_direction\", \"wind_speed\",\"precip_depth_1_hr\"]\n",
    "df_test.drop(drop_features + \"row_id\", axis=1, inplace=True)"
   ]
  },
  {
   "cell_type": "code",
   "execution_count": null,
   "metadata": {},
   "outputs": [],
   "source": [
    "df_test = reduce_mem_usage(df_test)"
   ]
  },
  {
   "cell_type": "code",
   "execution_count": null,
   "metadata": {},
   "outputs": [],
   "source": [
    "li = ['air_temperature','dew_temperature']\n",
    "for i in li:\n",
    "    a = np.round(df_test[i]).median()\n",
    "    df_test[i] = df_test[i].fillna(a) \n"
   ]
  },
  {
   "cell_type": "code",
   "execution_count": null,
   "metadata": {},
   "outputs": [],
   "source": [
    "le = LabelEncoder()\n",
    "df_test['primary_use'] = le.fit_transform(df_test['primary_use'])"
   ]
  },
  {
   "cell_type": "code",
   "execution_count": null,
   "metadata": {},
   "outputs": [],
   "source": [
    "df_test.isnull().sum(axis = 0)\n"
   ]
  },
  {
   "cell_type": "code",
   "execution_count": null,
   "metadata": {},
   "outputs": [],
   "source": [
    "df_test = reduce_mem_usage(df_test)"
   ]
  },
  {
   "cell_type": "code",
   "execution_count": null,
   "metadata": {},
   "outputs": [],
   "source": [
    "del feature_train\n",
    "del feature_validation\n",
    "del target_train\n",
    "gc.collect()"
   ]
  },
  {
   "cell_type": "code",
   "execution_count": null,
   "metadata": {},
   "outputs": [],
   "source": [
    "sub = pd.read_csv(\"/kaggle/input/ashrae-energy-prediction/sample_submission.csv\")\n"
   ]
  },
  {
   "cell_type": "code",
   "execution_count": null,
   "metadata": {},
   "outputs": [],
   "source": [
    "from tqdm import tqdm\n",
    "i=0\n",
    "res=[]\n",
    "step_size = 5000 \n",
    "for j in tqdm(range(int(np.ceil(df_test.shape[0]/5000)))):\n",
    "    res.append(np.expm1(lr.predict(df_test.iloc[i:i+step_size])))\n",
    "\n",
    "    i+=step_size\n",
    "res = np.concatenate(res)\n",
    "sub[\"meter_reading\"] = res\n",
    "sub.to_csv(\"submissionlr.csv\", index = False)"
   ]
  },
  {
   "cell_type": "code",
   "execution_count": null,
   "metadata": {},
   "outputs": [],
   "source": [
    "i=0\n",
    "res=[]\n",
    "step_size = 5000 \n",
    "for j in tqdm(range(int(np.ceil(df_test.shape[0]/5000)))):\n",
    "    res.append(np.expm1(gbm.predict(df_test.iloc[i:i+step_size])))\n",
    "\n",
    "    i+=step_size\n",
    "res = np.concatenate(res)\n",
    "sub[\"meter_reading\"] = res\n",
    "sub.to_csv(\"submissionlgbm.csv\", index = False)"
   ]
  },
  {
   "cell_type": "code",
   "execution_count": 45,
   "metadata": {},
   "outputs": [
    {
     "data": {
      "text/plain": [
       "(array([5.68400e+05, 1.83041e+05, 2.76241e+05, 5.48999e+05, 7.90920e+05,\n",
       "        9.12468e+05, 7.62650e+05, 5.38688e+05, 2.78740e+05, 1.29279e+05,\n",
       "        4.29880e+04, 1.32280e+04, 5.91700e+03, 1.38900e+03, 6.20000e+01,\n",
       "        2.32000e+02, 4.20000e+01, 1.05000e+02, 2.76000e+02, 3.60000e+02]),\n",
       " array([ 0.        ,  0.84497297,  1.6899459 ,  2.534919  ,  3.3798919 ,\n",
       "         4.224865  ,  5.069838  ,  5.914811  ,  6.7597837 ,  7.604757  ,\n",
       "         8.44973   ,  9.294703  , 10.139676  , 10.984649  , 11.829622  ,\n",
       "        12.674595  , 13.5195675 , 14.364541  , 15.209514  , 16.054487  ,\n",
       "        16.89946   ], dtype=float32),\n",
       " <a list of 20 Patch objects>)"
      ]
     },
     "execution_count": 45,
     "metadata": {},
     "output_type": "execute_result"
    },
    {
     "data": {
      "image/png": "[encoded data removed]",
      "text/plain": [
       "<Figure size 432x288 with 1 Axes>"
      ]
     },
     "metadata": {
      "needs_background": "light"
     },
     "output_type": "display_data"
    }
   ],
   "source": [
    "plt.hist(target_validation, bins=20)"
   ]
  }
 ],
 "metadata": {
  "kernelspec": {
   "display_name": "Python 3",
   "language": "python",
   "name": "python3"
  },
  "language_info": {
   "codemirror_mode": {
    "name": "ipython",
    "version": 3
   },
   "file_extension": ".py",
   "mimetype": "text/x-python",
   "name": "python",
   "nbconvert_exporter": "python",
   "pygments_lexer": "ipython3",
   "version": "3.7.4"
  }
 },
 "nbformat": 4,
 "nbformat_minor": 1
}
