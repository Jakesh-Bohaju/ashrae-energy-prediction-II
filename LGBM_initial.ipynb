{
 "cells": [
  {
   "cell_type": "code",
   "execution_count": 1,
   "metadata": {
    "_cell_guid": "b1076dfc-b9ad-4769-8c92-a6c4dae69d19",
    "_uuid": "8f2839f25d086af736a60e9eeb907d3b93b6e0e5"
   },
   "outputs": [],
   "source": [
    "# This Python 3 environment comes with many helpful analytics libraries installed\n",
    "# It is defined by the kaggle/python docker image: https://github.com/kaggle/docker-python\n",
    "# For example, here's several helpful packages to load in \n",
    "\n",
    "import numpy as np # linear algebra\n",
    "import pandas as pd # data processing, CSV file I/O (e.g. pd.read_csv)\n"
   ]
  },
  {
   "cell_type": "code",
   "execution_count": 3,
   "metadata": {
    "_cell_guid": "79c7e3d0-c299-4dcb-8224-4455121ee9b0",
    "_uuid": "d629ff2d2480ee46fbb7e2d37f6b5fab8052498a"
   },
   "outputs": [],
   "source": [
    "building_df = pd.read_csv(\"datasets/building_metadata.csv\")\n",
    "train_df = pd.read_csv(\"datasets/train.csv\")\n",
    "weather_train_df = pd.read_csv(\"datasets/weather_train.csv\")"
   ]
  },
  {
   "cell_type": "code",
   "execution_count": 4,
   "metadata": {
    "_cell_guid": "",
    "_uuid": ""
   },
   "outputs": [],
   "source": [
    "def reduce_mem_usage(df, verbose=True):\n",
    "    numerics = ['int16', 'int32', 'int64', 'float16', 'float32', 'float64']\n",
    "    start_mem = df.memory_usage().sum() / 1024**2    \n",
    "    for col in df.columns:\n",
    "        col_type = df[col].dtypes\n",
    "        if col_type in numerics:\n",
    "            c_min = df[col].min()\n",
    "            c_max = df[col].max()\n",
    "            if str(col_type)[:3] == 'int':\n",
    "                if c_min > np.iinfo(np.int8).min and c_max < np.iinfo(np.int8).max:\n",
    "                    df[col] = df[col].astype(np.int8)\n",
    "                elif c_min > np.iinfo(np.int16).min and c_max < np.iinfo(np.int16).max:\n",
    "                    df[col] = df[col].astype(np.int16)\n",
    "                elif c_min > np.iinfo(np.int32).min and c_max < np.iinfo(np.int32).max:\n",
    "                    df[col] = df[col].astype(np.int32)\n",
    "                elif c_min > np.iinfo(np.int64).min and c_max < np.iinfo(np.int64).max:\n",
    "                    df[col] = df[col].astype(np.int64)  \n",
    "            else:\n",
    "                if c_min > np.finfo(np.float16).min and c_max < np.finfo(np.float16).max:\n",
    "                    df[col] = df[col].astype(np.float16)\n",
    "                elif c_min > np.finfo(np.float32).min and c_max < np.finfo(np.float32).max:\n",
    "                    df[col] = df[col].astype(np.float32)\n",
    "                else:\n",
    "                    df[col] = df[col].astype(np.float64)    \n",
    "    end_mem = df.memory_usage().sum() / 1024**2\n",
    "    if verbose: print('Mem. usage decreased to {:5.2f} Mb ({:.1f}% reduction)'.format(end_mem, 100 * (start_mem - end_mem) / start_mem))\n",
    "    return df\n",
    "\n"
   ]
  },
  {
   "cell_type": "code",
   "execution_count": 5,
   "metadata": {},
   "outputs": [
    {
     "name": "stdout",
     "output_type": "stream",
     "text": [
      "Mem. usage decreased to  0.03 Mb (60.3% reduction)\n",
      "Mem. usage decreased to 289.19 Mb (53.1% reduction)\n",
      "Mem. usage decreased to  3.07 Mb (68.1% reduction)\n"
     ]
    }
   ],
   "source": [
    "building_df = reduce_mem_usage(building_df)\n",
    "train_df = reduce_mem_usage(train_df)\n",
    "weather_train_df = reduce_mem_usage(weather_train_df)\n"
   ]
  },
  {
   "cell_type": "code",
   "execution_count": 6,
   "metadata": {},
   "outputs": [],
   "source": [
    "building_merge_train_df = train_df.merge(building_df, on='building_id', how='left')\n",
    "df_train = building_merge_train_df.merge(weather_train_df, on=['site_id', 'timestamp'], how='left')"
   ]
  },
  {
   "cell_type": "code",
   "execution_count": 7,
   "metadata": {},
   "outputs": [
    {
     "name": "stdout",
     "output_type": "stream",
     "text": [
      "Mem. usage decreased to 1041.10 Mb (0.0% reduction)\n"
     ]
    }
   ],
   "source": [
    "df_train = reduce_mem_usage(df_train)\n"
   ]
  },
  {
   "cell_type": "code",
   "execution_count": 8,
   "metadata": {},
   "outputs": [
    {
     "data": {
      "text/plain": [
       "17.0"
      ]
     },
     "execution_count": 8,
     "metadata": {},
     "output_type": "execute_result"
    }
   ],
   "source": [
    "np.round(df_train['air_temperature']).median()"
   ]
  },
  {
   "cell_type": "code",
   "execution_count": 9,
   "metadata": {},
   "outputs": [],
   "source": [
    "del train_df\n",
    "del building_df\n",
    "del weather_train_df"
   ]
  },
  {
   "cell_type": "code",
   "execution_count": 10,
   "metadata": {},
   "outputs": [
    {
     "data": {
      "text/plain": [
       "80"
      ]
     },
     "execution_count": 10,
     "metadata": {},
     "output_type": "execute_result"
    }
   ],
   "source": [
    "import gc\n",
    "gc.collect()"
   ]
  },
  {
   "cell_type": "code",
   "execution_count": 11,
   "metadata": {},
   "outputs": [],
   "source": [
    "li = ['floor_count','air_temperature','cloud_coverage','dew_temperature','precip_depth_1_hr','sea_level_pressure','wind_direction','wind_speed']\n",
    "for i in li:\n",
    "    a = np.round(df_train[i]).median()\n",
    "    df_train[i] = df_train[i].fillna(a) "
   ]
  },
  {
   "cell_type": "code",
   "execution_count": 12,
   "metadata": {},
   "outputs": [
    {
     "data": {
      "text/plain": [
       "building_id                  0\n",
       "meter                        0\n",
       "timestamp                    0\n",
       "meter_reading                0\n",
       "site_id                      0\n",
       "primary_use                  0\n",
       "square_feet                  0\n",
       "year_built            12127645\n",
       "floor_count                  0\n",
       "air_temperature              0\n",
       "cloud_coverage               0\n",
       "dew_temperature              0\n",
       "precip_depth_1_hr            0\n",
       "sea_level_pressure           0\n",
       "wind_direction               0\n",
       "wind_speed                   0\n",
       "dtype: int64"
      ]
     },
     "execution_count": 12,
     "metadata": {},
     "output_type": "execute_result"
    }
   ],
   "source": [
    "df_train.isnull().sum(axis = 0)"
   ]
  },
  {
   "cell_type": "code",
   "execution_count": 13,
   "metadata": {},
   "outputs": [
    {
     "name": "stdout",
     "output_type": "stream",
     "text": [
      "Mem. usage decreased to 1041.10 Mb (0.0% reduction)\n"
     ]
    }
   ],
   "source": [
    "df_train = reduce_mem_usage(df_train)\n"
   ]
  },
  {
   "cell_type": "code",
   "execution_count": 14,
   "metadata": {},
   "outputs": [],
   "source": [
    "building_df = pd.read_csv(\"datasets/building_metadata.csv\")\n",
    "test_df = pd.read_csv(\"datasets/test.csv\")\n",
    "weather_test_df = pd.read_csv(\"datasets/weather_test.csv\")"
   ]
  },
  {
   "cell_type": "code",
   "execution_count": 15,
   "metadata": {},
   "outputs": [
    {
     "name": "stdout",
     "output_type": "stream",
     "text": [
      "Mem. usage decreased to  0.03 Mb (60.3% reduction)\n",
      "Mem. usage decreased to 596.49 Mb (53.1% reduction)\n",
      "Mem. usage decreased to  6.08 Mb (68.1% reduction)\n"
     ]
    }
   ],
   "source": [
    "building_df = reduce_mem_usage(building_df)\n",
    "test_df = reduce_mem_usage(test_df)\n",
    "weather_test_df = reduce_mem_usage(weather_test_df)\n"
   ]
  },
  {
   "cell_type": "code",
   "execution_count": 16,
   "metadata": {},
   "outputs": [],
   "source": [
    "building_merge_test_df = test_df.merge(building_df, on='building_id', how='left')\n",
    "df_test = building_merge_test_df.merge(weather_test_df, on=['site_id', 'timestamp'], how='left')"
   ]
  },
  {
   "cell_type": "code",
   "execution_count": 17,
   "metadata": {},
   "outputs": [
    {
     "name": "stdout",
     "output_type": "stream",
     "text": [
      "Mem. usage decreased to 2147.36 Mb (0.0% reduction)\n"
     ]
    }
   ],
   "source": [
    "df_test = reduce_mem_usage(df_test)\n"
   ]
  },
  {
   "cell_type": "code",
   "execution_count": 18,
   "metadata": {},
   "outputs": [
    {
     "data": {
      "text/plain": [
       "80"
      ]
     },
     "execution_count": 18,
     "metadata": {},
     "output_type": "execute_result"
    }
   ],
   "source": [
    "del test_df\n",
    "del building_df\n",
    "del weather_test_df\n",
    "gc.collect()"
   ]
  },
  {
   "cell_type": "code",
   "execution_count": 19,
   "metadata": {},
   "outputs": [],
   "source": [
    "li = ['floor_count','air_temperature','cloud_coverage','dew_temperature','precip_depth_1_hr','sea_level_pressure','wind_direction','wind_speed']\n",
    "for i in li:\n",
    "    a = np.round(df_test[i]).median()\n",
    "    df_test[i] = df_test[i].fillna(a) "
   ]
  },
  {
   "cell_type": "code",
   "execution_count": 20,
   "metadata": {},
   "outputs": [
    {
     "name": "stdout",
     "output_type": "stream",
     "text": [
      "Mem. usage decreased to 2147.36 Mb (0.0% reduction)\n"
     ]
    }
   ],
   "source": [
    "df_test = reduce_mem_usage(df_test)\n"
   ]
  },
  {
   "cell_type": "code",
   "execution_count": 22,
   "metadata": {},
   "outputs": [],
   "source": [
    "from sklearn import preprocessing\n",
    "from sklearn.model_selection import KFold\n",
    "import lightgbm as lgb\n",
    "from sklearn.metrics import mean_squared_error"
   ]
  },
  {
   "cell_type": "code",
   "execution_count": 23,
   "metadata": {},
   "outputs": [],
   "source": [
    "df_train[\"timestamp\"] = pd.to_datetime(df_train[\"timestamp\"])\n",
    "df_train[\"hour\"] = df_train[\"timestamp\"].dt.hour\n",
    "df_train[\"day\"] = df_train[\"timestamp\"].dt.day\n",
    "df_train[\"month\"] = df_train[\"timestamp\"].dt.month\n",
    "df_train = df_train.drop([\"timestamp\"], axis = 1)\n",
    "le = preprocessing.LabelEncoder()\n",
    "df_train[\"primary_use\"] = le.fit_transform(df_train[\"primary_use\"])"
   ]
  },
  {
   "cell_type": "code",
   "execution_count": 24,
   "metadata": {},
   "outputs": [
    {
     "name": "stdout",
     "output_type": "stream",
     "text": [
      "<class 'pandas.core.frame.DataFrame'>\n",
      "Int64Index: 20216100 entries, 0 to 20216099\n",
      "Data columns (total 18 columns):\n",
      "building_id           int16\n",
      "meter                 int8\n",
      "meter_reading         float32\n",
      "site_id               int8\n",
      "primary_use           int32\n",
      "square_feet           int32\n",
      "year_built            float16\n",
      "floor_count           float16\n",
      "air_temperature       float16\n",
      "cloud_coverage        float16\n",
      "dew_temperature       float16\n",
      "precip_depth_1_hr     float16\n",
      "sea_level_pressure    float16\n",
      "wind_direction        float16\n",
      "wind_speed            float16\n",
      "hour                  int64\n",
      "day                   int64\n",
      "month                 int64\n",
      "dtypes: float16(9), float32(1), int16(1), int32(2), int64(3), int8(2)\n",
      "memory usage: 1.2 GB\n"
     ]
    }
   ],
   "source": [
    "df_train.info()"
   ]
  },
  {
   "cell_type": "code",
   "execution_count": 25,
   "metadata": {},
   "outputs": [
    {
     "name": "stdout",
     "output_type": "stream",
     "text": [
      "Mem. usage decreased to 809.74 Mb (36.4% reduction)\n"
     ]
    }
   ],
   "source": [
    "df_train = reduce_mem_usage(df_train)\n"
   ]
  },
  {
   "cell_type": "code",
   "execution_count": 26,
   "metadata": {},
   "outputs": [],
   "source": [
    "categoricals = [\"building_id\", \"primary_use\", \"hour\", \"day\", \"month\", \"meter\",\"site_id\"]\n",
    "\n",
    "drop_cols = [\"year_built\"]\n",
    "\n",
    "numericals = [\"square_feet\", \"air_temperature\", \"cloud_coverage\",\"precip_depth_1_hr\", \"sea_level_pressure\", \"wind_direction\", \"wind_speed\",\n",
    "              \"dew_temperature\",\"floor_count\"]\n",
    "\n",
    "feat_cols = categoricals + numericals"
   ]
  },
  {
   "cell_type": "code",
   "execution_count": 27,
   "metadata": {},
   "outputs": [],
   "source": [
    "target = np.log1p(df_train[\"meter_reading\"])\n",
    "df_train = df_train.drop(drop_cols + [\"meter_reading\"], axis = 1)\n"
   ]
  },
  {
   "cell_type": "code",
   "execution_count": 29,
   "metadata": {},
   "outputs": [
    {
     "name": "stdout",
     "output_type": "stream",
     "text": [
      "Training FOLD  0 \n",
      "\n",
      "Train index: \tfrom: 0 \tto: 20216099 \n",
      "\n",
      "Valid index: \tfrom: 7 \tto: 20216095 \n",
      "\n",
      "Training until validation scores don't improve for 50 rounds\n",
      "[20]\ttraining's rmse: 1.98952\tvalid_1's rmse: 1.98978\n",
      "[40]\ttraining's rmse: 1.86496\tvalid_1's rmse: 1.86515\n",
      "[60]\ttraining's rmse: 1.76899\tvalid_1's rmse: 1.76916\n",
      "[80]\ttraining's rmse: 1.68638\tvalid_1's rmse: 1.68645\n",
      "[100]\ttraining's rmse: 1.62075\tvalid_1's rmse: 1.6208\n",
      "[120]\ttraining's rmse: 1.56711\tvalid_1's rmse: 1.56712\n",
      "[140]\ttraining's rmse: 1.51902\tvalid_1's rmse: 1.519\n",
      "[160]\ttraining's rmse: 1.47031\tvalid_1's rmse: 1.47028\n",
      "[180]\ttraining's rmse: 1.42264\tvalid_1's rmse: 1.4226\n",
      "[200]\ttraining's rmse: 1.3826\tvalid_1's rmse: 1.38254\n",
      "[220]\ttraining's rmse: 1.35016\tvalid_1's rmse: 1.35009\n",
      "[240]\ttraining's rmse: 1.31637\tvalid_1's rmse: 1.31626\n",
      "[260]\ttraining's rmse: 1.28481\tvalid_1's rmse: 1.2847\n",
      "[280]\ttraining's rmse: 1.2587\tvalid_1's rmse: 1.25858\n",
      "[300]\ttraining's rmse: 1.23638\tvalid_1's rmse: 1.23624\n",
      "[320]\ttraining's rmse: 1.21831\tvalid_1's rmse: 1.21818\n",
      "[340]\ttraining's rmse: 1.20066\tvalid_1's rmse: 1.20052\n",
      "[360]\ttraining's rmse: 1.1852\tvalid_1's rmse: 1.18505\n",
      "[380]\ttraining's rmse: 1.16965\tvalid_1's rmse: 1.16952\n",
      "[400]\ttraining's rmse: 1.15447\tvalid_1's rmse: 1.15433\n",
      "[420]\ttraining's rmse: 1.14061\tvalid_1's rmse: 1.14046\n",
      "[440]\ttraining's rmse: 1.12724\tvalid_1's rmse: 1.12708\n",
      "[460]\ttraining's rmse: 1.11561\tvalid_1's rmse: 1.11543\n",
      "[480]\ttraining's rmse: 1.10536\tvalid_1's rmse: 1.10514\n",
      "[500]\ttraining's rmse: 1.09499\tvalid_1's rmse: 1.09475\n",
      "[520]\ttraining's rmse: 1.08564\tvalid_1's rmse: 1.08538\n",
      "[540]\ttraining's rmse: 1.07702\tvalid_1's rmse: 1.07674\n",
      "[560]\ttraining's rmse: 1.06758\tvalid_1's rmse: 1.06726\n",
      "[580]\ttraining's rmse: 1.05929\tvalid_1's rmse: 1.05894\n",
      "[600]\ttraining's rmse: 1.05175\tvalid_1's rmse: 1.05139\n",
      "[620]\ttraining's rmse: 1.04304\tvalid_1's rmse: 1.04266\n",
      "[640]\ttraining's rmse: 1.0363\tvalid_1's rmse: 1.0359\n",
      "[660]\ttraining's rmse: 1.03077\tvalid_1's rmse: 1.03038\n",
      "[680]\ttraining's rmse: 1.02324\tvalid_1's rmse: 1.02285\n",
      "[700]\ttraining's rmse: 1.01719\tvalid_1's rmse: 1.01678\n",
      "[720]\ttraining's rmse: 1.01073\tvalid_1's rmse: 1.01033\n",
      "[740]\ttraining's rmse: 1.00543\tvalid_1's rmse: 1.00502\n",
      "[760]\ttraining's rmse: 0.999486\tvalid_1's rmse: 0.999084\n",
      "[780]\ttraining's rmse: 0.993815\tvalid_1's rmse: 0.99342\n",
      "[800]\ttraining's rmse: 0.989116\tvalid_1's rmse: 0.988719\n",
      "[820]\ttraining's rmse: 0.984332\tvalid_1's rmse: 0.98394\n",
      "[840]\ttraining's rmse: 0.980235\tvalid_1's rmse: 0.979842\n",
      "[860]\ttraining's rmse: 0.976242\tvalid_1's rmse: 0.975862\n",
      "[880]\ttraining's rmse: 0.973134\tvalid_1's rmse: 0.972774\n",
      "[900]\ttraining's rmse: 0.970182\tvalid_1's rmse: 0.969824\n",
      "[920]\ttraining's rmse: 0.966486\tvalid_1's rmse: 0.966132\n",
      "[940]\ttraining's rmse: 0.962891\tvalid_1's rmse: 0.962544\n",
      "[960]\ttraining's rmse: 0.960022\tvalid_1's rmse: 0.959667\n",
      "[980]\ttraining's rmse: 0.957719\tvalid_1's rmse: 0.957357\n",
      "[1000]\ttraining's rmse: 0.955011\tvalid_1's rmse: 0.954645\n",
      "[1020]\ttraining's rmse: 0.952497\tvalid_1's rmse: 0.952135\n",
      "[1040]\ttraining's rmse: 0.950321\tvalid_1's rmse: 0.949957\n",
      "[1060]\ttraining's rmse: 0.947973\tvalid_1's rmse: 0.947617\n",
      "[1080]\ttraining's rmse: 0.945793\tvalid_1's rmse: 0.945438\n",
      "[1100]\ttraining's rmse: 0.943922\tvalid_1's rmse: 0.943566\n",
      "[1120]\ttraining's rmse: 0.941402\tvalid_1's rmse: 0.941048\n",
      "[1140]\ttraining's rmse: 0.939418\tvalid_1's rmse: 0.939064\n",
      "[1160]\ttraining's rmse: 0.937193\tvalid_1's rmse: 0.936839\n",
      "[1180]\ttraining's rmse: 0.934867\tvalid_1's rmse: 0.934512\n",
      "[1200]\ttraining's rmse: 0.932887\tvalid_1's rmse: 0.93254\n",
      "[1220]\ttraining's rmse: 0.930737\tvalid_1's rmse: 0.930403\n",
      "[1240]\ttraining's rmse: 0.928923\tvalid_1's rmse: 0.928593\n",
      "[1260]\ttraining's rmse: 0.926725\tvalid_1's rmse: 0.9264\n",
      "[1280]\ttraining's rmse: 0.924837\tvalid_1's rmse: 0.924505\n",
      "[1300]\ttraining's rmse: 0.922693\tvalid_1's rmse: 0.92236\n",
      "[1320]\ttraining's rmse: 0.921083\tvalid_1's rmse: 0.920758\n",
      "[1340]\ttraining's rmse: 0.919426\tvalid_1's rmse: 0.919102\n",
      "[1360]\ttraining's rmse: 0.91772\tvalid_1's rmse: 0.917391\n",
      "[1380]\ttraining's rmse: 0.916217\tvalid_1's rmse: 0.915889\n",
      "[1400]\ttraining's rmse: 0.914668\tvalid_1's rmse: 0.914346\n",
      "[1420]\ttraining's rmse: 0.91326\tvalid_1's rmse: 0.912942\n",
      "[1440]\ttraining's rmse: 0.911926\tvalid_1's rmse: 0.911609\n",
      "[1460]\ttraining's rmse: 0.910477\tvalid_1's rmse: 0.910164\n",
      "[1480]\ttraining's rmse: 0.909087\tvalid_1's rmse: 0.90878\n",
      "[1500]\ttraining's rmse: 0.907459\tvalid_1's rmse: 0.907154\n",
      "[1520]\ttraining's rmse: 0.906608\tvalid_1's rmse: 0.906314\n",
      "[1540]\ttraining's rmse: 0.905323\tvalid_1's rmse: 0.905031\n",
      "[1560]\ttraining's rmse: 0.90405\tvalid_1's rmse: 0.903774\n",
      "[1580]\ttraining's rmse: 0.902557\tvalid_1's rmse: 0.902286\n",
      "[1600]\ttraining's rmse: 0.901251\tvalid_1's rmse: 0.900991\n",
      "[1620]\ttraining's rmse: 0.90002\tvalid_1's rmse: 0.899755\n",
      "[1640]\ttraining's rmse: 0.899043\tvalid_1's rmse: 0.89878\n",
      "[1660]\ttraining's rmse: 0.897803\tvalid_1's rmse: 0.897549\n",
      "[1680]\ttraining's rmse: 0.896807\tvalid_1's rmse: 0.896552\n",
      "[1700]\ttraining's rmse: 0.895648\tvalid_1's rmse: 0.895396\n",
      "[1720]\ttraining's rmse: 0.894695\tvalid_1's rmse: 0.894437\n",
      "[1740]\ttraining's rmse: 0.893738\tvalid_1's rmse: 0.89348\n",
      "[1760]\ttraining's rmse: 0.89272\tvalid_1's rmse: 0.892462\n",
      "[1780]\ttraining's rmse: 0.891585\tvalid_1's rmse: 0.89133\n",
      "[1800]\ttraining's rmse: 0.890759\tvalid_1's rmse: 0.890523\n",
      "[1820]\ttraining's rmse: 0.889785\tvalid_1's rmse: 0.889561\n",
      "[1840]\ttraining's rmse: 0.888631\tvalid_1's rmse: 0.888419\n",
      "[1860]\ttraining's rmse: 0.887797\tvalid_1's rmse: 0.887575\n",
      "[1880]\ttraining's rmse: 0.886992\tvalid_1's rmse: 0.886773\n",
      "[1900]\ttraining's rmse: 0.885787\tvalid_1's rmse: 0.885565\n",
      "[1920]\ttraining's rmse: 0.884905\tvalid_1's rmse: 0.884689\n",
      "[1940]\ttraining's rmse: 0.884183\tvalid_1's rmse: 0.883972\n",
      "[1960]\ttraining's rmse: 0.883212\tvalid_1's rmse: 0.883002\n",
      "[1980]\ttraining's rmse: 0.882436\tvalid_1's rmse: 0.882236\n",
      "[2000]\ttraining's rmse: 0.881578\tvalid_1's rmse: 0.881389\n",
      "[2020]\ttraining's rmse: 0.88084\tvalid_1's rmse: 0.880649\n",
      "[2040]\ttraining's rmse: 0.880023\tvalid_1's rmse: 0.879836\n",
      "[2060]\ttraining's rmse: 0.879367\tvalid_1's rmse: 0.879179\n",
      "[2080]\ttraining's rmse: 0.87846\tvalid_1's rmse: 0.878286\n",
      "[2100]\ttraining's rmse: 0.877619\tvalid_1's rmse: 0.877452\n",
      "[2120]\ttraining's rmse: 0.876969\tvalid_1's rmse: 0.876809\n",
      "[2140]\ttraining's rmse: 0.876287\tvalid_1's rmse: 0.87613\n",
      "[2160]\ttraining's rmse: 0.875633\tvalid_1's rmse: 0.875482\n",
      "[2180]\ttraining's rmse: 0.874903\tvalid_1's rmse: 0.87476\n",
      "[2200]\ttraining's rmse: 0.874331\tvalid_1's rmse: 0.87419\n",
      "[2220]\ttraining's rmse: 0.873616\tvalid_1's rmse: 0.87348\n",
      "[2240]\ttraining's rmse: 0.873139\tvalid_1's rmse: 0.873007\n",
      "[2260]\ttraining's rmse: 0.872624\tvalid_1's rmse: 0.872495\n",
      "[2280]\ttraining's rmse: 0.871984\tvalid_1's rmse: 0.871859\n",
      "[2300]\ttraining's rmse: 0.871405\tvalid_1's rmse: 0.871282\n",
      "[2320]\ttraining's rmse: 0.870422\tvalid_1's rmse: 0.870312\n",
      "[2340]\ttraining's rmse: 0.869624\tvalid_1's rmse: 0.869529\n",
      "[2360]\ttraining's rmse: 0.868983\tvalid_1's rmse: 0.86889\n",
      "[2380]\ttraining's rmse: 0.868249\tvalid_1's rmse: 0.868157\n",
      "[2400]\ttraining's rmse: 0.867698\tvalid_1's rmse: 0.867603\n",
      "[2420]\ttraining's rmse: 0.867078\tvalid_1's rmse: 0.86698\n",
      "[2440]\ttraining's rmse: 0.866561\tvalid_1's rmse: 0.866472\n",
      "[2460]\ttraining's rmse: 0.865903\tvalid_1's rmse: 0.865818\n",
      "[2480]\ttraining's rmse: 0.864697\tvalid_1's rmse: 0.864622\n",
      "[2500]\ttraining's rmse: 0.864012\tvalid_1's rmse: 0.863929\n",
      "[2520]\ttraining's rmse: 0.863188\tvalid_1's rmse: 0.863106\n",
      "[2540]\ttraining's rmse: 0.862792\tvalid_1's rmse: 0.86271\n",
      "[2560]\ttraining's rmse: 0.862276\tvalid_1's rmse: 0.862193\n",
      "[2580]\ttraining's rmse: 0.861638\tvalid_1's rmse: 0.861557\n",
      "[2600]\ttraining's rmse: 0.861209\tvalid_1's rmse: 0.861122\n",
      "[2620]\ttraining's rmse: 0.860864\tvalid_1's rmse: 0.860775\n",
      "[2640]\ttraining's rmse: 0.859852\tvalid_1's rmse: 0.85977\n",
      "[2660]\ttraining's rmse: 0.85935\tvalid_1's rmse: 0.859269\n",
      "[2680]\ttraining's rmse: 0.858909\tvalid_1's rmse: 0.85883\n",
      "[2700]\ttraining's rmse: 0.858471\tvalid_1's rmse: 0.858404\n",
      "[2720]\ttraining's rmse: 0.858044\tvalid_1's rmse: 0.857982\n",
      "[2740]\ttraining's rmse: 0.857561\tvalid_1's rmse: 0.857499\n",
      "[2760]\ttraining's rmse: 0.857022\tvalid_1's rmse: 0.856963\n",
      "[2780]\ttraining's rmse: 0.8562\tvalid_1's rmse: 0.856143\n",
      "[2800]\ttraining's rmse: 0.855355\tvalid_1's rmse: 0.855309\n",
      "[2820]\ttraining's rmse: 0.854662\tvalid_1's rmse: 0.854621\n",
      "[2840]\ttraining's rmse: 0.854264\tvalid_1's rmse: 0.854226\n"
     ]
    },
    {
     "name": "stdout",
     "output_type": "stream",
     "text": [
      "[2860]\ttraining's rmse: 0.853483\tvalid_1's rmse: 0.853449\n",
      "[2880]\ttraining's rmse: 0.852882\tvalid_1's rmse: 0.852853\n",
      "[2900]\ttraining's rmse: 0.852356\tvalid_1's rmse: 0.852332\n",
      "[2920]\ttraining's rmse: 0.851738\tvalid_1's rmse: 0.851715\n",
      "[2940]\ttraining's rmse: 0.851224\tvalid_1's rmse: 0.851201\n",
      "[2960]\ttraining's rmse: 0.850543\tvalid_1's rmse: 0.850522\n",
      "[2980]\ttraining's rmse: 0.849943\tvalid_1's rmse: 0.849923\n",
      "[3000]\ttraining's rmse: 0.849264\tvalid_1's rmse: 0.849245\n",
      "Did not meet early stopping. Best iteration is:\n",
      "[3000]\ttraining's rmse: 0.849264\tvalid_1's rmse: 0.849245\n",
      "\n",
      "Fold 0  Score:  0.8492453199263676\n",
      "------------------------------------------------------------\n",
      "CV error:  0.16984906398527352\n"
     ]
    }
   ],
   "source": [
    "num_folds = 5\n",
    "kf = KFold(n_splits = num_folds, shuffle = True, random_state = 46)\n",
    "error = 0\n",
    "\n",
    "for fold, (train_index, val_index) in enumerate(kf.split(df_train, target)):\n",
    "\n",
    "    print ('Training FOLD ',fold,'\\n')\n",
    "    print('Train index:','\\tfrom:',train_index.min(),'\\tto:',train_index.max(),'\\n')\n",
    "    print('Valid index:','\\tfrom:',val_index.min(),'\\tto:',val_index.max(),'\\n')\n",
    "    \n",
    "    train_X = df_train[feat_cols].iloc[train_index]\n",
    "    val_X = df_train[feat_cols].iloc[val_index]\n",
    "    train_y = target.iloc[train_index]\n",
    "    val_y = target.iloc[val_index]\n",
    "    lgb_train = lgb.Dataset(train_X, train_y)\n",
    "    lgb_eval = lgb.Dataset(val_X, val_y)\n",
    "    \n",
    "    params = {\n",
    "            'boosting_type': 'gbdt',\n",
    "            'objective': 'regression',\n",
    "            'metric': {'rmse'},\n",
    "            'learning_rate': 0.01,\n",
    "            'feature_fraction': 0.9,\n",
    "            'bagging_fraction': 0.9, \n",
    "        'alpha': 0.1, \n",
    "        'lambda': 0.1\n",
    "            }\n",
    "    \n",
    "    gbm = lgb.train(params,\n",
    "                lgb_train,\n",
    "                num_boost_round=3000,\n",
    "                    categorical_feature = categoricals,\n",
    "                valid_sets=(lgb_train, lgb_eval),\n",
    "               early_stopping_rounds=50,\n",
    "               verbose_eval = 20)\n",
    "\n",
    "    y_pred = gbm.predict(val_X, num_iteration=gbm.best_iteration)\n",
    "    error += np.sqrt(mean_squared_error(y_pred, (val_y)))/num_folds\n",
    "    \n",
    "    print('\\nFold',fold,' Score: ',np.sqrt(mean_squared_error(y_pred, val_y)))\n",
    "\n",
    "    del train_X, val_X, train_y, val_y, lgb_train, lgb_eval\n",
    "    gc.collect()\n",
    "\n",
    "    print (20*'---')\n",
    "    break\n",
    "    \n",
    "print('CV error: ',error)\n"
   ]
  },
  {
   "cell_type": "code",
   "execution_count": 30,
   "metadata": {},
   "outputs": [
    {
     "data": {
      "text/html": [
       "<div>\n",
       "<style scoped>\n",
       "    .dataframe tbody tr th:only-of-type {\n",
       "        vertical-align: middle;\n",
       "    }\n",
       "\n",
       "    .dataframe tbody tr th {\n",
       "        vertical-align: top;\n",
       "    }\n",
       "\n",
       "    .dataframe thead th {\n",
       "        text-align: right;\n",
       "    }\n",
       "</style>\n",
       "<table border=\"1\" class=\"dataframe\">\n",
       "  <thead>\n",
       "    <tr style=\"text-align: right;\">\n",
       "      <th></th>\n",
       "      <th>building_id</th>\n",
       "      <th>primary_use</th>\n",
       "      <th>hour</th>\n",
       "      <th>day</th>\n",
       "      <th>month</th>\n",
       "      <th>meter</th>\n",
       "      <th>site_id</th>\n",
       "      <th>square_feet</th>\n",
       "      <th>air_temperature</th>\n",
       "      <th>cloud_coverage</th>\n",
       "      <th>precip_depth_1_hr</th>\n",
       "      <th>sea_level_pressure</th>\n",
       "      <th>wind_direction</th>\n",
       "      <th>wind_speed</th>\n",
       "      <th>dew_temperature</th>\n",
       "      <th>floor_count</th>\n",
       "    </tr>\n",
       "  </thead>\n",
       "  <tbody>\n",
       "    <tr>\n",
       "      <td>0</td>\n",
       "      <td>0</td>\n",
       "      <td>0</td>\n",
       "      <td>0</td>\n",
       "      <td>1</td>\n",
       "      <td>1</td>\n",
       "      <td>0</td>\n",
       "      <td>0</td>\n",
       "      <td>7432</td>\n",
       "      <td>17.796875</td>\n",
       "      <td>4.0</td>\n",
       "      <td>0.0</td>\n",
       "      <td>1021.5</td>\n",
       "      <td>100.0</td>\n",
       "      <td>3.599609</td>\n",
       "      <td>11.703125</td>\n",
       "      <td>3.0</td>\n",
       "    </tr>\n",
       "    <tr>\n",
       "      <td>1</td>\n",
       "      <td>1</td>\n",
       "      <td>0</td>\n",
       "      <td>0</td>\n",
       "      <td>1</td>\n",
       "      <td>1</td>\n",
       "      <td>0</td>\n",
       "      <td>0</td>\n",
       "      <td>2720</td>\n",
       "      <td>17.796875</td>\n",
       "      <td>4.0</td>\n",
       "      <td>0.0</td>\n",
       "      <td>1021.5</td>\n",
       "      <td>100.0</td>\n",
       "      <td>3.599609</td>\n",
       "      <td>11.703125</td>\n",
       "      <td>3.0</td>\n",
       "    </tr>\n",
       "    <tr>\n",
       "      <td>2</td>\n",
       "      <td>2</td>\n",
       "      <td>0</td>\n",
       "      <td>0</td>\n",
       "      <td>1</td>\n",
       "      <td>1</td>\n",
       "      <td>0</td>\n",
       "      <td>0</td>\n",
       "      <td>5376</td>\n",
       "      <td>17.796875</td>\n",
       "      <td>4.0</td>\n",
       "      <td>0.0</td>\n",
       "      <td>1021.5</td>\n",
       "      <td>100.0</td>\n",
       "      <td>3.599609</td>\n",
       "      <td>11.703125</td>\n",
       "      <td>3.0</td>\n",
       "    </tr>\n",
       "    <tr>\n",
       "      <td>3</td>\n",
       "      <td>3</td>\n",
       "      <td>0</td>\n",
       "      <td>0</td>\n",
       "      <td>1</td>\n",
       "      <td>1</td>\n",
       "      <td>0</td>\n",
       "      <td>0</td>\n",
       "      <td>23685</td>\n",
       "      <td>17.796875</td>\n",
       "      <td>4.0</td>\n",
       "      <td>0.0</td>\n",
       "      <td>1021.5</td>\n",
       "      <td>100.0</td>\n",
       "      <td>3.599609</td>\n",
       "      <td>11.703125</td>\n",
       "      <td>3.0</td>\n",
       "    </tr>\n",
       "    <tr>\n",
       "      <td>4</td>\n",
       "      <td>4</td>\n",
       "      <td>0</td>\n",
       "      <td>0</td>\n",
       "      <td>1</td>\n",
       "      <td>1</td>\n",
       "      <td>0</td>\n",
       "      <td>0</td>\n",
       "      <td>116607</td>\n",
       "      <td>17.796875</td>\n",
       "      <td>4.0</td>\n",
       "      <td>0.0</td>\n",
       "      <td>1021.5</td>\n",
       "      <td>100.0</td>\n",
       "      <td>3.599609</td>\n",
       "      <td>11.703125</td>\n",
       "      <td>3.0</td>\n",
       "    </tr>\n",
       "  </tbody>\n",
       "</table>\n",
       "</div>"
      ],
      "text/plain": [
       "   building_id  primary_use  hour  day  month  meter  site_id  square_feet  \\\n",
       "0            0            0     0    1      1      0        0         7432   \n",
       "1            1            0     0    1      1      0        0         2720   \n",
       "2            2            0     0    1      1      0        0         5376   \n",
       "3            3            0     0    1      1      0        0        23685   \n",
       "4            4            0     0    1      1      0        0       116607   \n",
       "\n",
       "   air_temperature  cloud_coverage  precip_depth_1_hr  sea_level_pressure  \\\n",
       "0        17.796875             4.0                0.0              1021.5   \n",
       "1        17.796875             4.0                0.0              1021.5   \n",
       "2        17.796875             4.0                0.0              1021.5   \n",
       "3        17.796875             4.0                0.0              1021.5   \n",
       "4        17.796875             4.0                0.0              1021.5   \n",
       "\n",
       "   wind_direction  wind_speed  dew_temperature  floor_count  \n",
       "0           100.0    3.599609        11.703125          3.0  \n",
       "1           100.0    3.599609        11.703125          3.0  \n",
       "2           100.0    3.599609        11.703125          3.0  \n",
       "3           100.0    3.599609        11.703125          3.0  \n",
       "4           100.0    3.599609        11.703125          3.0  "
      ]
     },
     "execution_count": 30,
     "metadata": {},
     "output_type": "execute_result"
    }
   ],
   "source": [
    "df_test[\"timestamp\"] = pd.to_datetime(df_test[\"timestamp\"])\n",
    "df_test[\"hour\"] = df_test[\"timestamp\"].dt.hour.astype(np.uint8)\n",
    "df_test[\"day\"] = df_test[\"timestamp\"].dt.day.astype(np.uint8)\n",
    "df_test[\"month\"] = df_test[\"timestamp\"].dt.month.astype(np.uint8)\n",
    "df_test = df_test[feat_cols]\n",
    "le = preprocessing.LabelEncoder()\n",
    "df_test[\"primary_use\"] = le.fit_transform(df_test[\"primary_use\"])\n",
    "df_test.head()"
   ]
  },
  {
   "cell_type": "code",
   "execution_count": 31,
   "metadata": {},
   "outputs": [
    {
     "name": "stdout",
     "output_type": "stream",
     "text": [
      "Mem. usage decreased to 1431.57 Mb (7.7% reduction)\n"
     ]
    }
   ],
   "source": [
    "df_test = reduce_mem_usage(df_test)\n"
   ]
  },
  {
   "cell_type": "code",
   "execution_count": 32,
   "metadata": {},
   "outputs": [
    {
     "name": "stderr",
     "output_type": "stream",
     "text": [
      "100%|██████████████████████████████████████████████████████████████████████████████| 695/695 [2:38:10<00:00, 13.65s/it]\n"
     ]
    }
   ],
   "source": [
    "from tqdm import tqdm\n",
    "i=0\n",
    "res=[]\n",
    "step_size = 60000 \n",
    "for j in tqdm(range(int(np.ceil(df_test.shape[0]/60000)))):\n",
    "    res.append(np.expm1(gbm.predict(df_test.iloc[i:i+step_size])))\n",
    "    i+=step_size"
   ]
  },
  {
   "cell_type": "code",
   "execution_count": 33,
   "metadata": {},
   "outputs": [],
   "source": [
    "del df_train\n",
    "del df_test"
   ]
  },
  {
   "cell_type": "code",
   "execution_count": 39,
   "metadata": {},
   "outputs": [],
   "source": [
    "res = np.concatenate(res)\n"
   ]
  },
  {
   "cell_type": "code",
   "execution_count": 40,
   "metadata": {},
   "outputs": [
    {
     "name": "stdout",
     "output_type": "stream",
     "text": [
      "Mem. usage decreased to 198.83 Mb (68.7% reduction)\n"
     ]
    }
   ],
   "source": [
    "sub = pd.read_csv(\"datasets/sample_submission.csv\")\n",
    "\n",
    "sub = reduce_mem_usage(sub)\n"
   ]
  },
  {
   "cell_type": "code",
   "execution_count": 61,
   "metadata": {},
   "outputs": [],
   "source": [
    "sub[\"meter_reading\"] = res"
   ]
  },
  {
   "cell_type": "code",
   "execution_count": 62,
   "metadata": {},
   "outputs": [],
   "source": [
    "# for i in range(sub.shape[0]):\n",
    "#     sub['meter_reading'][i]=res[i]"
   ]
  },
  {
   "cell_type": "code",
   "execution_count": 63,
   "metadata": {},
   "outputs": [],
   "source": [
    "sub.to_csv(\"submission.csv\", index = False)"
   ]
  },
  {
   "cell_type": "code",
   "execution_count": null,
   "metadata": {},
   "outputs": [],
   "source": []
  },
  {
   "cell_type": "code",
   "execution_count": null,
   "metadata": {},
   "outputs": [],
   "source": []
  },
  {
   "cell_type": "code",
   "execution_count": null,
   "metadata": {},
   "outputs": [],
   "source": []
  }
 ],
 "metadata": {
  "kernelspec": {
   "display_name": "Python 3",
   "language": "python",
   "name": "python3"
  },
  "language_info": {
   "codemirror_mode": {
    "name": "ipython",
    "version": 3
   },
   "file_extension": ".py",
   "mimetype": "text/x-python",
   "name": "python",
   "nbconvert_exporter": "python",
   "pygments_lexer": "ipython3",
   "version": "3.7.4"
  }
 },
 "nbformat": 4,
 "nbformat_minor": 1
}
